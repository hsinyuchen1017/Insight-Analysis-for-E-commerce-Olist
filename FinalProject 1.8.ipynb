{
 "cells": [
  {
   "cell_type": "markdown",
   "metadata": {},
   "source": [
    "# Ask 1: "
   ]
  },
  {
   "cell_type": "markdown",
   "metadata": {},
   "source": [
    "### Identify and describe your dataset"
   ]
  },
  {
   "cell_type": "markdown",
   "metadata": {},
   "source": [
    "Our dataset is about Brazilian E-commerce orders made at Olist store, which is the largest department store in Brazilian marketplaces. There are seven datasets in our database, including  customers dataset, orders dataset, order item dataset, order payments dataset, order reviews dataset, products dataset and sellers dataset, which allow us to analyze data in various perspectives and view each order from different dimensions.\n",
    "\n",
    "In the customers dataset, information about the customer are included, such as the state and city location of each customer. Moreover, each customer has a unique customer_id based on each order, which can used to identify customers who repurchased at Olist store.\n",
    "\n",
    "In the orders dataset, information about orders are included, such as the order status, when is the purchase time of the order, the estimated and actual delivery date of the order. Since we have the the estimated and actual delivery date of the order in the dataset, we additionally add a new column for calculating the difference of these two dates, which we can know more about the delivery of orders.\n",
    "\n",
    "In the order items dataset, information about items purchased in each order are included, such as the price of the item, which seller provide the item, and the freight value of the item.\n",
    "\n",
    "In the order payments dataset, information about what payment is used for each orders are included, such as the payment type and payment value. \n",
    "\n",
    "In the order reviews dataset, information about reviews made by customers are included, such as the review score, review comment, when is the date the satisfaction survey was sent to the customer and the date customer answered the  satisfaction survey. Since we have the date the satisfaction survey was sent to the customer and the date customer answered the satisfaction survey in the dataset, we additionally add a new column for calculating the difference of these two dates, which we can know more about how customer response to the satisfaction survey.\n",
    "\n",
    "In the products dataset, information about all products sold by Olist are included, such as the product id, product category name, and product size.\n",
    "\n",
    "In the sellers dataset, information about sellers that provide products for orders are included, such as the seller id and the state and city location of the seller."
   ]
  },
  {
   "cell_type": "markdown",
   "metadata": {},
   "source": [
    "### Identify dataset source"
   ]
  },
  {
   "cell_type": "markdown",
   "metadata": {},
   "source": [
    "https://www.kaggle.com/olistbr/brazilian-ecommerce#olist_sellers_dataset.csv"
   ]
  },
  {
   "cell_type": "markdown",
   "metadata": {},
   "source": [
    "### Why is important and what appeals to you about it?"
   ]
  },
  {
   "cell_type": "markdown",
   "metadata": {},
   "source": [
    "This dataset was provided by Olist, the largest department store in Brazilian marketplaces. This database allows us to have a better understanding about the Olist Onlie store's business, sales, market trends and customer base. We think this database is really close to real life business operation and it helps us to get the sense of how to use data to extract information and improve business operation. That is why we think it is important to use this database and learn analytics skills from real life business example. "
   ]
  },
  {
   "cell_type": "markdown",
   "metadata": {},
   "source": [
    "### Describe the analytical questions you want to answer with the data:"
   ]
  },
  {
   "cell_type": "markdown",
   "metadata": {},
   "source": [
    "Question 1: Find the number of orders by day of the week."
   ]
  },
  {
   "cell_type": "markdown",
   "metadata": {},
   "source": [
    "Question 2: Find the top 10 product categories based on average price"
   ]
  },
  {
   "cell_type": "markdown",
   "metadata": {},
   "source": [
    "Question 3: Find the average days of product delays of each state based on the difference between estimatated delivery days and actural delivery days. "
   ]
  },
  {
   "cell_type": "markdown",
   "metadata": {},
   "source": [
    "# Ask 2"
   ]
  },
  {
   "cell_type": "markdown",
   "metadata": {},
   "source": [
    "### wrangle the data into a format suitable for Dimensional modeling analysis. This may involve: – Cleaning, filtering, merging , modeling steps "
   ]
  },
  {
   "cell_type": "markdown",
   "metadata": {},
   "source": [
    "#### Merging and cleaning"
   ]
  },
  {
   "cell_type": "markdown",
   "metadata": {},
   "source": [
    "We used JMP to wrangle the data. \n",
    "We first joined all datasets into one single dataset using order id.\n",
    "Then we deleted useless columns such including payment_installments, payment_sequential, order_approved_at, order_delivered_carrier_date, product_name_lenght, product_description_lenght, product_photos_qty."
   ]
  },
  {
   "cell_type": "markdown",
   "metadata": {},
   "source": [
    "#### Creating new columns"
   ]
  },
  {
   "cell_type": "markdown",
   "metadata": {},
   "source": [
    "We used JMP to create two new columns, difference_delivered_purchase and difference_estimated_delivered.\n",
    "The formula of difference_delivered_purchase is (order_delivered_customer_date - order_purchase_timestamp) / (3600 * 24), which represents the days between customers make a purchase and receive the order. \n",
    "The formula of difference_estimated_delivered is (order_estimated_delivery_date - order_delivered_customer_date) / (3600 * 24), which represents the days between the estimated delivery date and the delivery date. "
   ]
  },
  {
   "cell_type": "code",
   "execution_count": 3,
   "metadata": {},
   "outputs": [
    {
     "name": "stdout",
     "output_type": "stream",
     "text": [
      "ipython-sql==0.3.9\n",
      "psycopg2==2.7.5\n",
      "psycopg2-binary==2.7.5\n"
     ]
    }
   ],
   "source": [
    "!pip freeze | grep -E 'ipython-sql|psycopg2'"
   ]
  },
  {
   "cell_type": "code",
   "execution_count": 2,
   "metadata": {},
   "outputs": [],
   "source": [
    "!dropdb -U student final_project"
   ]
  },
  {
   "cell_type": "code",
   "execution_count": 3,
   "metadata": {},
   "outputs": [],
   "source": [
    "!createdb -U student final_project"
   ]
  },
  {
   "cell_type": "code",
   "execution_count": 1,
   "metadata": {},
   "outputs": [],
   "source": [
    "%load_ext sql"
   ]
  },
  {
   "cell_type": "code",
   "execution_count": 2,
   "metadata": {},
   "outputs": [
    {
     "data": {
      "text/plain": [
       "'Connected: student@final_project'"
      ]
     },
     "execution_count": 2,
     "metadata": {},
     "output_type": "execute_result"
    }
   ],
   "source": [
    "%sql postgresql://student@/final_project"
   ]
  },
  {
   "cell_type": "markdown",
   "metadata": {},
   "source": [
    "## Data Setup"
   ]
  },
  {
   "cell_type": "code",
   "execution_count": 7,
   "metadata": {},
   "outputs": [],
   "source": [
    "## lets examine data. Moving it first to more friendly file name\n",
    "!mv order_customer_payments_item_product_seller.csv data.csv"
   ]
  },
  {
   "cell_type": "code",
   "execution_count": 7,
   "metadata": {},
   "outputs": [
    {
     "name": "stdout",
     "output_type": "stream",
     "text": [
      "117602 data.csv\n"
     ]
    }
   ],
   "source": [
    "!wc -l data.csv"
   ]
  },
  {
   "cell_type": "code",
   "execution_count": 8,
   "metadata": {},
   "outputs": [
    {
     "name": "stdout",
     "output_type": "stream",
     "text": [
      "  1: ﻿order_purchase_timestamp\n",
      "  2: order_delivered_customer_date\n",
      "  3: difference_delivered_purchase\n",
      "  4: order_estimated_delivery_date\n",
      "  5: difference_estimated_delivered\n",
      "  6: customer_unique_id\n",
      "  7: customer_zip_code_prefix\n",
      "  8: customer_city\n",
      "  9: customer_state\n",
      " 10: seller_id\n",
      " 11: seller_zip_code_prefix\n",
      " 12: seller_city\n",
      " 13: seller_state\n",
      " 14: product_id\n",
      " 15: price\n",
      " 16: freight_value\n",
      " 17: product_category_name\n",
      " 18: product_weight_g\n",
      " 19: product_length_cm\n",
      " 20: product_height_cm\n",
      " 21: product_width_cm\n"
     ]
    }
   ],
   "source": [
    "## use csvcut to find the heading (attribute labels) of the Q1 file\n",
    "!csvcut -n data.csv"
   ]
  },
  {
   "cell_type": "markdown",
   "metadata": {},
   "source": [
    "## Create Table and Import"
   ]
  },
  {
   "cell_type": "code",
   "execution_count": 9,
   "metadata": {},
   "outputs": [
    {
     "name": "stdout",
     "output_type": "stream",
     "text": [
      "﻿order_purchase_timestamp,order_delivered_customer_date,difference_delivered_purchase,order_estimated_delivery_date,difference_estimated_delivered,customer_unique_id,customer_zip_code_prefix,customer_city,customer_state,seller_id,seller_zip_code_prefix,seller_city,seller_state,product_id,price,freight_value,product_category_name,product_weight_g,product_length_cm,product_height_cm,product_width_cm\n",
      "2017/5/5 16:12,2017/6/2 16:57,28.03142361,2017/5/30 0:00,-3.706759259,b4527423469300ee354458e1b5f961be,32223,contagem,MG,3442f8959a84dea7ee197c632cb2df15,13023,campinas,SP,f4621f8ad6f54a2e3c408884068be46d,101.7,15.92,esporte_lazer,600,35,15,28\n",
      "2017/8/30 11:47,2017/9/1 16:51,2.210810185,2017/9/20 0:00,18.29761574,af0f26435fade1ca984d9affda307199,9310,maua,SP,3442f8959a84dea7ee197c632cb2df15,13023,campinas,SP,325a06bcce0da45b7f4ecf2797dd40e4,10.8,2.42,esporte_lazer,300,16,5,15\n",
      "2017/8/21 20:35,2017/8/30 16:07,8.813530093,2017/9/1 0:00,1.328321759,f421a2a66b69dbfe6db0c87845281a90,4661,sao paulo,SP,3442f8959a84dea7ee197c632cb2df15,13023,campinas,SP,ffb64e34a37740dafb6c88f1abd1fa61,106.2,9.56,esporte_lazer,700,43,15,35\n",
      "2017/4/28 14:20,2017/5/9 14:27,11.00483796,2017/6/1 0:00,22.3978588,00ac9cd5c4ad19e16e7c6f6864711737,37500,itajuba,MG,d1b65fc7debc3361ea86b5f14c68d2e2,13844,mogi guacu,SP,765c417cdc38443aaa558a0159a98591,209.9,21.55,malas_acessorios,3500,40,55,25\n",
      "2017/4/27 9:09,2017/5/4 13:20,7.173877315,2017/6/6 0:00,32.44436343,51dc56123336c573f2977f5da81b17b9,20251,rio de janeiro,RJ,d1b65fc7debc3361ea86b5f14c68d2e2,13844,mogi guacu,SP,765c417cdc38443aaa558a0159a98591,209.9,21.55,malas_acessorios,3500,40,55,25\n",
      "2018/4/9 23:40,2018/4/30 18:41,20.79236111,2018/4/30 0:00,-0.778541667,177e10134f99776d8a2b0c10c3fed38c,37190,tres pontas,MG,d1b65fc7debc3361ea86b5f14c68d2e2,13844,mogi guacu,SP,cb378611bbb39f1716b4f0c335201448,399.99,36.34,malas_acessorios,16850,38,58,25\n",
      "2017/5/7 12:42,2017/5/19 10:07,11.8921875,2017/6/1 0:00,12.57799769,28b9099dc6577fdeceb2e4468e69f556,88440,imbuia,SC,d1b65fc7debc3361ea86b5f14c68d2e2,13844,mogi guacu,SP,d46169ff14ef99286a176b5391a7a1c8,1197.9,130.18,malas_acessorios,22600,37,80,60\n",
      "2017/5/24 21:02,2017/6/2 10:48,8.573275463,2017/6/21 0:00,18.54983796,20555f7b2372553063a07264ff6d3808,71727,brasilia,DF,d1b65fc7debc3361ea86b5f14c68d2e2,13844,mogi guacu,SP,aab5e2a4e6a2434fb61e694ed85a9888,129.9,15.66,papelaria,1800,32,40,16\n",
      "2017/5/23 23:25,2017/5/28 2:48,4.141122685,2017/6/14 0:00,16.88275463,ff2cfbe44d7249b98eed0e860fe3e53c,2310,sao paulo,SP,d1b65fc7debc3361ea86b5f14c68d2e2,13844,mogi guacu,SP,2020db9c389956e879dd05e6250413d8,229.9,13.11,malas_acessorios,4000,38,52,22\n"
     ]
    }
   ],
   "source": [
    "## let's first have a feeling for the data values in the 21 fields\n",
    "!head -n 10 data.csv"
   ]
  },
  {
   "cell_type": "code",
   "execution_count": 10,
   "metadata": {},
   "outputs": [
    {
     "name": "stdout",
     "output_type": "stream",
     "text": [
      "  1. \"﻿order_purchase_timestamp\"\n",
      "\n",
      "\tType of data:          DateTime\n",
      "\tContains null values:  False\n",
      "\tUnique values:         895\n",
      "\tSmallest value:        2016-10-08 10:55:00\n",
      "\tLargest value:         2018-08-28 09:18:00\n",
      "\tMost common values:    2018-07-12 18:57:00 (8x)\n",
      "\t                       2018-08-15 14:02:00 (5x)\n",
      "\t                       2018-01-06 23:02:00 (5x)\n",
      "\t                       2017-05-27 19:20:00 (4x)\n",
      "\t                       2018-05-07 21:54:00 (4x)\n",
      "\n",
      "  2. \"order_delivered_customer_date\"\n",
      "\n",
      "\tType of data:          DateTime\n",
      "\tContains null values:  True (excluded from calculations)\n",
      "\tUnique values:         868\n",
      "\tSmallest value:        2016-10-27 10:58:00\n",
      "\tLargest value:         2018-09-19 15:46:00\n",
      "\tMost common values:    None (29x)\n",
      "\t                       2018-07-24 17:40:00 (8x)\n",
      "\t                       2018-01-22 15:12:00 (5x)\n",
      "\t                       2017-06-07 08:53:00 (4x)\n",
      "\t                       2018-05-17 20:21:00 (4x)\n",
      "\n",
      "  3. \"difference_delivered_purchase\"\n",
      "\n",
      "\tType of data:          Number\n",
      "\tContains null values:  True (excluded from calculations)\n",
      "\tUnique values:         871\n",
      "\tSmallest value:        1.046\n",
      "\tLargest value:         209.629\n",
      "\tSum:                   12,599.694\n",
      "\tMean:                  12.989\n",
      "\tMedian:                10.164\n",
      "\tStDev:                 13.411\n",
      "\tMost common values:    None (29x)\n",
      "\t                       11.947 (8x)\n",
      "\t                       15.674 (5x)\n",
      "\t                       10.564 (4x)\n",
      "\t                       9.935 (4x)\n",
      "\n",
      "  4. \"order_estimated_delivery_date\"\n",
      "\n",
      "\tType of data:          DateTime\n",
      "\tContains null values:  False\n",
      "\tUnique values:         333\n",
      "\tSmallest value:        2017-01-11 00:00:00\n",
      "\tLargest value:         2018-10-10 00:00:00\n",
      "\tMost common values:    2018-03-12 00:00:00 (12x)\n",
      "\t                       2018-02-20 00:00:00 (11x)\n",
      "\t                       2018-05-24 00:00:00 (11x)\n",
      "\t                       2018-08-06 00:00:00 (10x)\n",
      "\t                       2018-05-10 00:00:00 (10x)\n",
      "\n",
      "  5. \"difference_estimated_delivered\"\n",
      "\n",
      "\tType of data:          Number\n",
      "\tContains null values:  True (excluded from calculations)\n",
      "\tUnique values:         871\n",
      "\tSmallest value:        -181.609\n",
      "\tLargest value:         75.543\n",
      "\tSum:                   11,759.813\n",
      "\tMean:                  12.124\n",
      "\tMedian:                12.428\n",
      "\tStDev:                 14.585\n",
      "\tMost common values:    None (29x)\n",
      "\t                       12.263 (8x)\n",
      "\t                       28.366 (5x)\n",
      "\t                       21.63 (4x)\n",
      "\t                       20.152 (4x)\n",
      "\n",
      "  6. \"customer_unique_id\"\n",
      "\n",
      "\tType of data:          Text\n",
      "\tContains null values:  False\n",
      "\tUnique values:         897\n",
      "\tLongest value:         32 characters\n",
      "\tMost common values:    c63a8c4fb13043a3fbe33bd17c69d17d (8x)\n",
      "\t                       8d20b985a2670e363f0609d87d58a023 (5x)\n",
      "\t                       9077449283dc1319d5e51fb3159b28e2 (4x)\n",
      "\t                       93e765999b1ac5d5498d5cbdd316c7ca (4x)\n",
      "\t                       71532174b89899cc2edc27886af89ec9 (4x)\n",
      "\n",
      "  7. \"customer_zip_code_prefix\"\n",
      "\n",
      "\tType of data:          Number\n",
      "\tContains null values:  False\n",
      "\tUnique values:         844\n",
      "\tSmallest value:        1,033\n",
      "\tLargest value:         99,750\n",
      "\tSum:                   36,877,584\n",
      "\tMean:                  36,914.498\n",
      "\tMedian:                29,023\n",
      "\tStDev:                 30,069.043\n",
      "\tMost common values:    61,624 (8x)\n",
      "\t                       2,971 (5x)\n",
      "\t                       11,030 (5x)\n",
      "\t                       35,502 (4x)\n",
      "\t                       29,230 (4x)\n",
      "\n",
      "  8. \"customer_city\"\n",
      "\n",
      "\tType of data:          Text\n",
      "\tContains null values:  False\n",
      "\tUnique values:         382\n",
      "\tLongest value:         24 characters\n",
      "\tMost common values:    sao paulo (161x)\n",
      "\t                       rio de janeiro (62x)\n",
      "\t                       brasilia (24x)\n",
      "\t                       belo horizonte (23x)\n",
      "\t                       campinas (19x)\n",
      "\n",
      "  9. \"customer_state\"\n",
      "\n",
      "\tType of data:          Text\n",
      "\tContains null values:  False\n",
      "\tUnique values:         24\n",
      "\tLongest value:         2 characters\n",
      "\tMost common values:    SP (395x)\n",
      "\t                       MG (107x)\n",
      "\t                       RJ (104x)\n",
      "\t                       RS (53x)\n",
      "\t                       PR (44x)\n",
      "\n",
      " 10. \"seller_id\"\n",
      "\n",
      "\tType of data:          Text\n",
      "\tContains null values:  False\n",
      "\tUnique values:         40\n",
      "\tLongest value:         32 characters\n",
      "\tMost common values:    ccc4bbb5f32a6ab2b7066a4130f114e3 (197x)\n",
      "\t                       2ff97219cb8622eaf3cd89b7d9c09824 (97x)\n",
      "\t                       1f9ab4708f3056ede07124aad39a2554 (82x)\n",
      "\t                       116ccb1a1604bc88e4d234a8c23f33de (73x)\n",
      "\t                       d9a84e1403de8da0c3aa531d6d108ba6 (67x)\n",
      "\n",
      " 11. \"seller_zip_code_prefix\"\n",
      "\n",
      "\tType of data:          Number\n",
      "\tContains null values:  False\n",
      "\tUnique values:         40\n",
      "\tSmallest value:        1,222\n",
      "\tLargest value:         98,910\n",
      "\tSum:                   32,983,768\n",
      "\tMean:                  33,016.785\n",
      "\tMedian:                17,602\n",
      "\tStDev:                 30,802.385\n",
      "\tMost common values:    80,310 (197x)\n",
      "\t                       13,320 (97x)\n",
      "\t                       17,602 (82x)\n",
      "\t                       9,850 (73x)\n",
      "\t                       3,562 (67x)\n",
      "\n",
      " 12. \"seller_city\"\n",
      "\n",
      "\tType of data:          Text\n",
      "\tContains null values:  False\n",
      "\tUnique values:         28\n",
      "\tLongest value:         21 characters\n",
      "\tMost common values:    curitiba (203x)\n",
      "\t                       sao paulo (202x)\n",
      "\t                       salto (97x)\n",
      "\t                       tupa (82x)\n",
      "\t                       sao bernardo do campo (73x)\n",
      "\n",
      " 13. \"seller_state\"\n",
      "\n",
      "\tType of data:          Text\n",
      "\tContains null values:  False\n",
      "\tUnique values:         10\n",
      "\tLongest value:         2 characters\n",
      "\tMost common values:    SP (608x)\n",
      "\t                       PR (205x)\n",
      "\t                       MG (67x)\n",
      "\t                       PE (42x)\n",
      "\t                       DF (33x)\n",
      "\n",
      " 14. \"product_id\"\n",
      "\n",
      "\tType of data:          Text\n",
      "\tContains null values:  False\n",
      "\tUnique values:         384\n",
      "\tLongest value:         32 characters\n",
      "\tMost common values:    6cdd53843498f92890544667809f1595 (159x)\n",
      "\t                       8aa6223e400af9c97b07c75993142721 (48x)\n",
      "\t                       f1d4ce8c6dd66c47bbaa8c6781c2a923 (19x)\n",
      "\t                       9fc063fd34fed29ccc57b7f8e8d03388 (17x)\n",
      "\t                       3ce21e38e6a3060c20f4e74bdab770c8 (15x)\n",
      "\n",
      " 15. \"price\"\n",
      "\n",
      "\tType of data:          Number\n",
      "\tContains null values:  False\n",
      "\tUnique values:         247\n",
      "\tSmallest value:        5.9\n",
      "\tLargest value:         2,749\n",
      "\tSum:                   156,850.6\n",
      "\tMean:                  157.008\n",
      "\tMedian:                87\n",
      "\tStDev:                 195.507\n",
      "\tMost common values:    349.9 (122x)\n",
      "\t                       64.9 (40x)\n",
      "\t                       169.9 (40x)\n",
      "\t                       364 (32x)\n",
      "\t                       174.9 (28x)\n",
      "\n",
      " 16. \"freight_value\"\n",
      "\n",
      "\tType of data:          Number\n",
      "\tContains null values:  False\n",
      "\tUnique values:         489\n",
      "\tSmallest value:        2.36\n",
      "\tLargest value:         157.23\n",
      "\tSum:                   22,900.58\n",
      "\tMean:                  22.924\n",
      "\tMedian:                18.7\n",
      "\tStDev:                 15.903\n",
      "\tMost common values:    7.39 (40x)\n",
      "\t                       18.23 (25x)\n",
      "\t                       20.1 (15x)\n",
      "\t                       15.1 (13x)\n",
      "\t                       7.78 (13x)\n",
      "\n",
      " 17. \"product_category_name\"\n",
      "\n",
      "\tType of data:          Text\n",
      "\tContains null values:  True (excluded from calculations)\n",
      "\tUnique values:         41\n",
      "\tLongest value:         46 characters\n",
      "\tMost common values:    beleza_saude (224x)\n",
      "\t                       bebes (130x)\n",
      "\t                       brinquedos (112x)\n",
      "\t                       automotivo (73x)\n",
      "\t                       utilidades_domesticas (69x)\n",
      "\n",
      " 18. \"product_weight_g\"\n",
      "\n",
      "\tType of data:          Number\n",
      "\tContains null values:  False\n",
      "\tUnique values:         153\n",
      "\tSmallest value:        50\n",
      "\tLargest value:         26,400\n",
      "\tSum:                   2,236,638\n",
      "\tMean:                  2,238.877\n",
      "\tMedian:                900\n",
      "\tStDev:                 3,567.438\n",
      "\tMost common values:    900 (171x)\n",
      "\t                       200 (70x)\n",
      "\t                       400 (57x)\n",
      "\t                       5,000 (49x)\n",
      "\t                       500 (39x)\n",
      "\n",
      " 19. \"product_length_cm\"\n",
      "\n",
      "\tType of data:          Number\n",
      "\tContains null values:  False\n",
      "\tUnique values:         46\n",
      "\tSmallest value:        16\n",
      "\tLargest value:         95\n",
      "\tSum:                   29,068\n",
      "\tMean:                  29.097\n",
      "\tMedian:                25\n",
      "\tStDev:                 12.369\n",
      "\tMost common values:    25 (169x)\n",
      "\t                       16 (167x)\n",
      "\t                       40 (116x)\n",
      "\t                       17 (81x)\n",
      "\t                       45 (43x)\n",
      "\n",
      " 20. \"product_height_cm\"\n",
      "\n",
      "\tType of data:          Number\n",
      "\tContains null values:  False\n",
      "\tUnique values:         61\n",
      "\tSmallest value:        2\n",
      "\tLargest value:         88\n",
      "\tSum:                   17,665\n",
      "\tMean:                  17.683\n",
      "\tMedian:                12\n",
      "\tStDev:                 15.109\n",
      "\tMost common values:    12 (235x)\n",
      "\t                       10 (137x)\n",
      "\t                       2 (72x)\n",
      "\t                       21 (49x)\n",
      "\t                       4 (35x)\n",
      "\n",
      " 21. \"product_width_cm\"\n",
      "\n",
      "\tType of data:          Number\n",
      "\tContains null values:  False\n",
      "\tUnique values:         43\n",
      "\tSmallest value:        9\n",
      "\tLargest value:         92\n",
      "\tSum:                   26,064\n",
      "\tMean:                  26.09\n",
      "\tMedian:                24\n",
      "\tStDev:                 13.051\n",
      "\tMost common values:    38 (160x)\n",
      "\t                       11 (124x)\n",
      "\t                       40 (94x)\n",
      "\t                       16 (72x)\n",
      "\t                       15 (65x)\n",
      "\n",
      "Row count: 999\n"
     ]
    }
   ],
   "source": [
    "## we won't be sure of our above conclusions on the data unless we examine a good sample of it. Let's do that for first 1% of the records\n",
    "!head -n 1000 data.csv | csvstat"
   ]
  },
  {
   "cell_type": "markdown",
   "metadata": {},
   "source": [
    "Based on these values, We expect we can create transactional table as follows:"
   ]
  },
  {
   "cell_type": "code",
   "execution_count": 11,
   "metadata": {},
   "outputs": [
    {
     "name": "stdout",
     "output_type": "stream",
     "text": [
      " * postgresql://student@/final_project\n",
      "Done.\n"
     ]
    },
    {
     "data": {
      "text/plain": [
       "[]"
      ]
     },
     "execution_count": 11,
     "metadata": {},
     "output_type": "execute_result"
    }
   ],
   "source": [
    "%%sql\n",
    "CREATE TABLE orders_facts (\n",
    "    order_purchase_timestamp TIMESTAMP,\n",
    "    order_delivered_customer_date TIMESTAMP,\n",
    "    difference_delivered_purchase numeric,\n",
    "    order_estimated_delivery_date TIMESTAMP,\n",
    "    difference_estimated_delivered numeric,\n",
    "    customer_unique_id varchar(100) Not Null,\n",
    "    customer_zip_code_prefix numeric,\n",
    "    customer_city varchar(100),\n",
    "    customer_state varchar(100),\n",
    "    seller_id varchar(100) Not Null,\n",
    "    seller_zip_code_prefix numeric,\n",
    "    seller_city varchar(100),\n",
    "    seller_state varchar(100),\n",
    "    product_id varchar(100) Not Null,\n",
    "    price numeric,\n",
    "    freight_value numeric,\n",
    "    product_category_name varchar(100),\n",
    "    product_weight_g numeric,\n",
    "    product_lenght_cm numeric,\n",
    "    product_height_cm numeric,\n",
    "    product_width_cm numeric\n",
    ");"
   ]
  },
  {
   "cell_type": "markdown",
   "metadata": {},
   "source": [
    "Now we'll load the data directly using COPY command. Note that this requires the use of an absolute path, so adjust it to your location:"
   ]
  },
  {
   "cell_type": "code",
   "execution_count": 12,
   "metadata": {},
   "outputs": [],
   "source": [
    "!cp data.csv /tmp/data.csv"
   ]
  },
  {
   "cell_type": "code",
   "execution_count": 13,
   "metadata": {},
   "outputs": [
    {
     "name": "stdout",
     "output_type": "stream",
     "text": [
      " * postgresql://student@/final_project\n",
      "117601 rows affected.\n"
     ]
    },
    {
     "data": {
      "text/plain": [
       "[]"
      ]
     },
     "execution_count": 13,
     "metadata": {},
     "output_type": "execute_result"
    }
   ],
   "source": [
    "%%sql\n",
    "COPY orders_facts FROM '/tmp/data.csv'\n",
    "CSV\n",
    "HEADER;"
   ]
  },
  {
   "cell_type": "markdown",
   "metadata": {},
   "source": [
    "~12K records were loaded into the database. We can check the count using SQL."
   ]
  },
  {
   "cell_type": "code",
   "execution_count": 14,
   "metadata": {},
   "outputs": [
    {
     "name": "stdout",
     "output_type": "stream",
     "text": [
      " * postgresql://student@/final_project\n",
      "1 rows affected.\n"
     ]
    },
    {
     "data": {
      "text/html": [
       "<table>\n",
       "    <tr>\n",
       "        <th>count</th>\n",
       "    </tr>\n",
       "    <tr>\n",
       "        <td>117601</td>\n",
       "    </tr>\n",
       "</table>"
      ],
      "text/plain": [
       "[(117601,)]"
      ]
     },
     "execution_count": 14,
     "metadata": {},
     "output_type": "execute_result"
    }
   ],
   "source": [
    "%%sql\n",
    "SELECT COUNT(*) FROM orders_facts;"
   ]
  },
  {
   "cell_type": "code",
   "execution_count": 15,
   "metadata": {},
   "outputs": [
    {
     "name": "stdout",
     "output_type": "stream",
     "text": [
      "117602 data.csv\n"
     ]
    }
   ],
   "source": [
    "!wc -l data.csv"
   ]
  },
  {
   "cell_type": "markdown",
   "metadata": {},
   "source": [
    "let's have a look at few loaded db records to make sure the data was loaded successfully."
   ]
  },
  {
   "cell_type": "code",
   "execution_count": 17,
   "metadata": {},
   "outputs": [
    {
     "name": "stdout",
     "output_type": "stream",
     "text": [
      " * postgresql://student@/final_project\n",
      "10 rows affected.\n"
     ]
    },
    {
     "data": {
      "text/html": [
       "<table>\n",
       "    <tr>\n",
       "        <th>order_purchase_timestamp</th>\n",
       "        <th>order_delivered_customer_date</th>\n",
       "        <th>difference_delivered_purchase</th>\n",
       "        <th>order_estimated_delivery_date</th>\n",
       "        <th>difference_estimated_delivered</th>\n",
       "        <th>customer_unique_id</th>\n",
       "        <th>customer_zip_code_prefix</th>\n",
       "        <th>customer_city</th>\n",
       "        <th>customer_state</th>\n",
       "        <th>seller_id</th>\n",
       "        <th>seller_zip_code_prefix</th>\n",
       "        <th>seller_city</th>\n",
       "        <th>seller_state</th>\n",
       "        <th>product_id</th>\n",
       "        <th>price</th>\n",
       "        <th>freight_value</th>\n",
       "        <th>product_category_name</th>\n",
       "        <th>product_weight_g</th>\n",
       "        <th>product_lenght_cm</th>\n",
       "        <th>product_height_cm</th>\n",
       "        <th>product_width_cm</th>\n",
       "    </tr>\n",
       "    <tr>\n",
       "        <td>2017-05-05 16:12:00</td>\n",
       "        <td>2017-06-02 16:57:00</td>\n",
       "        <td>28.03142361</td>\n",
       "        <td>2017-05-30 00:00:00</td>\n",
       "        <td>-3.706759259</td>\n",
       "        <td>b4527423469300ee354458e1b5f961be</td>\n",
       "        <td>32223</td>\n",
       "        <td>contagem</td>\n",
       "        <td>MG</td>\n",
       "        <td>3442f8959a84dea7ee197c632cb2df15</td>\n",
       "        <td>13023</td>\n",
       "        <td>campinas</td>\n",
       "        <td>SP</td>\n",
       "        <td>f4621f8ad6f54a2e3c408884068be46d</td>\n",
       "        <td>101.7</td>\n",
       "        <td>15.92</td>\n",
       "        <td>esporte_lazer</td>\n",
       "        <td>600</td>\n",
       "        <td>35</td>\n",
       "        <td>15</td>\n",
       "        <td>28</td>\n",
       "    </tr>\n",
       "    <tr>\n",
       "        <td>2017-08-30 11:47:00</td>\n",
       "        <td>2017-09-01 16:51:00</td>\n",
       "        <td>2.210810185</td>\n",
       "        <td>2017-09-20 00:00:00</td>\n",
       "        <td>18.29761574</td>\n",
       "        <td>af0f26435fade1ca984d9affda307199</td>\n",
       "        <td>9310</td>\n",
       "        <td>maua</td>\n",
       "        <td>SP</td>\n",
       "        <td>3442f8959a84dea7ee197c632cb2df15</td>\n",
       "        <td>13023</td>\n",
       "        <td>campinas</td>\n",
       "        <td>SP</td>\n",
       "        <td>325a06bcce0da45b7f4ecf2797dd40e4</td>\n",
       "        <td>10.8</td>\n",
       "        <td>2.42</td>\n",
       "        <td>esporte_lazer</td>\n",
       "        <td>300</td>\n",
       "        <td>16</td>\n",
       "        <td>5</td>\n",
       "        <td>15</td>\n",
       "    </tr>\n",
       "    <tr>\n",
       "        <td>2017-08-21 20:35:00</td>\n",
       "        <td>2017-08-30 16:07:00</td>\n",
       "        <td>8.813530093</td>\n",
       "        <td>2017-09-01 00:00:00</td>\n",
       "        <td>1.328321759</td>\n",
       "        <td>f421a2a66b69dbfe6db0c87845281a90</td>\n",
       "        <td>4661</td>\n",
       "        <td>sao paulo</td>\n",
       "        <td>SP</td>\n",
       "        <td>3442f8959a84dea7ee197c632cb2df15</td>\n",
       "        <td>13023</td>\n",
       "        <td>campinas</td>\n",
       "        <td>SP</td>\n",
       "        <td>ffb64e34a37740dafb6c88f1abd1fa61</td>\n",
       "        <td>106.2</td>\n",
       "        <td>9.56</td>\n",
       "        <td>esporte_lazer</td>\n",
       "        <td>700</td>\n",
       "        <td>43</td>\n",
       "        <td>15</td>\n",
       "        <td>35</td>\n",
       "    </tr>\n",
       "    <tr>\n",
       "        <td>2017-04-28 14:20:00</td>\n",
       "        <td>2017-05-09 14:27:00</td>\n",
       "        <td>11.00483796</td>\n",
       "        <td>2017-06-01 00:00:00</td>\n",
       "        <td>22.3978588</td>\n",
       "        <td>00ac9cd5c4ad19e16e7c6f6864711737</td>\n",
       "        <td>37500</td>\n",
       "        <td>itajuba</td>\n",
       "        <td>MG</td>\n",
       "        <td>d1b65fc7debc3361ea86b5f14c68d2e2</td>\n",
       "        <td>13844</td>\n",
       "        <td>mogi guacu</td>\n",
       "        <td>SP</td>\n",
       "        <td>765c417cdc38443aaa558a0159a98591</td>\n",
       "        <td>209.9</td>\n",
       "        <td>21.55</td>\n",
       "        <td>malas_acessorios</td>\n",
       "        <td>3500</td>\n",
       "        <td>40</td>\n",
       "        <td>55</td>\n",
       "        <td>25</td>\n",
       "    </tr>\n",
       "    <tr>\n",
       "        <td>2017-04-27 09:09:00</td>\n",
       "        <td>2017-05-04 13:20:00</td>\n",
       "        <td>7.173877315</td>\n",
       "        <td>2017-06-06 00:00:00</td>\n",
       "        <td>32.44436343</td>\n",
       "        <td>51dc56123336c573f2977f5da81b17b9</td>\n",
       "        <td>20251</td>\n",
       "        <td>rio de janeiro</td>\n",
       "        <td>RJ</td>\n",
       "        <td>d1b65fc7debc3361ea86b5f14c68d2e2</td>\n",
       "        <td>13844</td>\n",
       "        <td>mogi guacu</td>\n",
       "        <td>SP</td>\n",
       "        <td>765c417cdc38443aaa558a0159a98591</td>\n",
       "        <td>209.9</td>\n",
       "        <td>21.55</td>\n",
       "        <td>malas_acessorios</td>\n",
       "        <td>3500</td>\n",
       "        <td>40</td>\n",
       "        <td>55</td>\n",
       "        <td>25</td>\n",
       "    </tr>\n",
       "    <tr>\n",
       "        <td>2018-04-09 23:40:00</td>\n",
       "        <td>2018-04-30 18:41:00</td>\n",
       "        <td>20.79236111</td>\n",
       "        <td>2018-04-30 00:00:00</td>\n",
       "        <td>-0.778541667</td>\n",
       "        <td>177e10134f99776d8a2b0c10c3fed38c</td>\n",
       "        <td>37190</td>\n",
       "        <td>tres pontas</td>\n",
       "        <td>MG</td>\n",
       "        <td>d1b65fc7debc3361ea86b5f14c68d2e2</td>\n",
       "        <td>13844</td>\n",
       "        <td>mogi guacu</td>\n",
       "        <td>SP</td>\n",
       "        <td>cb378611bbb39f1716b4f0c335201448</td>\n",
       "        <td>399.99</td>\n",
       "        <td>36.34</td>\n",
       "        <td>malas_acessorios</td>\n",
       "        <td>16850</td>\n",
       "        <td>38</td>\n",
       "        <td>58</td>\n",
       "        <td>25</td>\n",
       "    </tr>\n",
       "    <tr>\n",
       "        <td>2017-05-07 12:42:00</td>\n",
       "        <td>2017-05-19 10:07:00</td>\n",
       "        <td>11.8921875</td>\n",
       "        <td>2017-06-01 00:00:00</td>\n",
       "        <td>12.57799769</td>\n",
       "        <td>28b9099dc6577fdeceb2e4468e69f556</td>\n",
       "        <td>88440</td>\n",
       "        <td>imbuia</td>\n",
       "        <td>SC</td>\n",
       "        <td>d1b65fc7debc3361ea86b5f14c68d2e2</td>\n",
       "        <td>13844</td>\n",
       "        <td>mogi guacu</td>\n",
       "        <td>SP</td>\n",
       "        <td>d46169ff14ef99286a176b5391a7a1c8</td>\n",
       "        <td>1197.9</td>\n",
       "        <td>130.18</td>\n",
       "        <td>malas_acessorios</td>\n",
       "        <td>22600</td>\n",
       "        <td>37</td>\n",
       "        <td>80</td>\n",
       "        <td>60</td>\n",
       "    </tr>\n",
       "    <tr>\n",
       "        <td>2017-05-24 21:02:00</td>\n",
       "        <td>2017-06-02 10:48:00</td>\n",
       "        <td>8.573275463</td>\n",
       "        <td>2017-06-21 00:00:00</td>\n",
       "        <td>18.54983796</td>\n",
       "        <td>20555f7b2372553063a07264ff6d3808</td>\n",
       "        <td>71727</td>\n",
       "        <td>brasilia</td>\n",
       "        <td>DF</td>\n",
       "        <td>d1b65fc7debc3361ea86b5f14c68d2e2</td>\n",
       "        <td>13844</td>\n",
       "        <td>mogi guacu</td>\n",
       "        <td>SP</td>\n",
       "        <td>aab5e2a4e6a2434fb61e694ed85a9888</td>\n",
       "        <td>129.9</td>\n",
       "        <td>15.66</td>\n",
       "        <td>papelaria</td>\n",
       "        <td>1800</td>\n",
       "        <td>32</td>\n",
       "        <td>40</td>\n",
       "        <td>16</td>\n",
       "    </tr>\n",
       "    <tr>\n",
       "        <td>2017-05-23 23:25:00</td>\n",
       "        <td>2017-05-28 02:48:00</td>\n",
       "        <td>4.141122685</td>\n",
       "        <td>2017-06-14 00:00:00</td>\n",
       "        <td>16.88275463</td>\n",
       "        <td>ff2cfbe44d7249b98eed0e860fe3e53c</td>\n",
       "        <td>2310</td>\n",
       "        <td>sao paulo</td>\n",
       "        <td>SP</td>\n",
       "        <td>d1b65fc7debc3361ea86b5f14c68d2e2</td>\n",
       "        <td>13844</td>\n",
       "        <td>mogi guacu</td>\n",
       "        <td>SP</td>\n",
       "        <td>2020db9c389956e879dd05e6250413d8</td>\n",
       "        <td>229.9</td>\n",
       "        <td>13.11</td>\n",
       "        <td>malas_acessorios</td>\n",
       "        <td>4000</td>\n",
       "        <td>38</td>\n",
       "        <td>52</td>\n",
       "        <td>22</td>\n",
       "    </tr>\n",
       "    <tr>\n",
       "        <td>2017-05-23 23:25:00</td>\n",
       "        <td>2017-05-28 02:48:00</td>\n",
       "        <td>4.141122685</td>\n",
       "        <td>2017-06-14 00:00:00</td>\n",
       "        <td>16.88275463</td>\n",
       "        <td>ff2cfbe44d7249b98eed0e860fe3e53c</td>\n",
       "        <td>2310</td>\n",
       "        <td>sao paulo</td>\n",
       "        <td>SP</td>\n",
       "        <td>d1b65fc7debc3361ea86b5f14c68d2e2</td>\n",
       "        <td>13844</td>\n",
       "        <td>mogi guacu</td>\n",
       "        <td>SP</td>\n",
       "        <td>d3d5a1d52abe9a7d234908d873fc377b</td>\n",
       "        <td>229.9</td>\n",
       "        <td>13.11</td>\n",
       "        <td>malas_acessorios</td>\n",
       "        <td>4900</td>\n",
       "        <td>38</td>\n",
       "        <td>55</td>\n",
       "        <td>22</td>\n",
       "    </tr>\n",
       "</table>"
      ],
      "text/plain": [
       "[(datetime.datetime(2017, 5, 5, 16, 12), datetime.datetime(2017, 6, 2, 16, 57), Decimal('28.03142361'), datetime.datetime(2017, 5, 30, 0, 0), Decimal('-3.706759259'), 'b4527423469300ee354458e1b5f961be', Decimal('32223'), 'contagem', 'MG', '3442f8959a84dea7ee197c632cb2df15', Decimal('13023'), 'campinas', 'SP', 'f4621f8ad6f54a2e3c408884068be46d', Decimal('101.7'), Decimal('15.92'), 'esporte_lazer', Decimal('600'), Decimal('35'), Decimal('15'), Decimal('28')),\n",
       " (datetime.datetime(2017, 8, 30, 11, 47), datetime.datetime(2017, 9, 1, 16, 51), Decimal('2.210810185'), datetime.datetime(2017, 9, 20, 0, 0), Decimal('18.29761574'), 'af0f26435fade1ca984d9affda307199', Decimal('9310'), 'maua', 'SP', '3442f8959a84dea7ee197c632cb2df15', Decimal('13023'), 'campinas', 'SP', '325a06bcce0da45b7f4ecf2797dd40e4', Decimal('10.8'), Decimal('2.42'), 'esporte_lazer', Decimal('300'), Decimal('16'), Decimal('5'), Decimal('15')),\n",
       " (datetime.datetime(2017, 8, 21, 20, 35), datetime.datetime(2017, 8, 30, 16, 7), Decimal('8.813530093'), datetime.datetime(2017, 9, 1, 0, 0), Decimal('1.328321759'), 'f421a2a66b69dbfe6db0c87845281a90', Decimal('4661'), 'sao paulo', 'SP', '3442f8959a84dea7ee197c632cb2df15', Decimal('13023'), 'campinas', 'SP', 'ffb64e34a37740dafb6c88f1abd1fa61', Decimal('106.2'), Decimal('9.56'), 'esporte_lazer', Decimal('700'), Decimal('43'), Decimal('15'), Decimal('35')),\n",
       " (datetime.datetime(2017, 4, 28, 14, 20), datetime.datetime(2017, 5, 9, 14, 27), Decimal('11.00483796'), datetime.datetime(2017, 6, 1, 0, 0), Decimal('22.3978588'), '00ac9cd5c4ad19e16e7c6f6864711737', Decimal('37500'), 'itajuba', 'MG', 'd1b65fc7debc3361ea86b5f14c68d2e2', Decimal('13844'), 'mogi guacu', 'SP', '765c417cdc38443aaa558a0159a98591', Decimal('209.9'), Decimal('21.55'), 'malas_acessorios', Decimal('3500'), Decimal('40'), Decimal('55'), Decimal('25')),\n",
       " (datetime.datetime(2017, 4, 27, 9, 9), datetime.datetime(2017, 5, 4, 13, 20), Decimal('7.173877315'), datetime.datetime(2017, 6, 6, 0, 0), Decimal('32.44436343'), '51dc56123336c573f2977f5da81b17b9', Decimal('20251'), 'rio de janeiro', 'RJ', 'd1b65fc7debc3361ea86b5f14c68d2e2', Decimal('13844'), 'mogi guacu', 'SP', '765c417cdc38443aaa558a0159a98591', Decimal('209.9'), Decimal('21.55'), 'malas_acessorios', Decimal('3500'), Decimal('40'), Decimal('55'), Decimal('25')),\n",
       " (datetime.datetime(2018, 4, 9, 23, 40), datetime.datetime(2018, 4, 30, 18, 41), Decimal('20.79236111'), datetime.datetime(2018, 4, 30, 0, 0), Decimal('-0.778541667'), '177e10134f99776d8a2b0c10c3fed38c', Decimal('37190'), 'tres pontas', 'MG', 'd1b65fc7debc3361ea86b5f14c68d2e2', Decimal('13844'), 'mogi guacu', 'SP', 'cb378611bbb39f1716b4f0c335201448', Decimal('399.99'), Decimal('36.34'), 'malas_acessorios', Decimal('16850'), Decimal('38'), Decimal('58'), Decimal('25')),\n",
       " (datetime.datetime(2017, 5, 7, 12, 42), datetime.datetime(2017, 5, 19, 10, 7), Decimal('11.8921875'), datetime.datetime(2017, 6, 1, 0, 0), Decimal('12.57799769'), '28b9099dc6577fdeceb2e4468e69f556', Decimal('88440'), 'imbuia', 'SC', 'd1b65fc7debc3361ea86b5f14c68d2e2', Decimal('13844'), 'mogi guacu', 'SP', 'd46169ff14ef99286a176b5391a7a1c8', Decimal('1197.9'), Decimal('130.18'), 'malas_acessorios', Decimal('22600'), Decimal('37'), Decimal('80'), Decimal('60')),\n",
       " (datetime.datetime(2017, 5, 24, 21, 2), datetime.datetime(2017, 6, 2, 10, 48), Decimal('8.573275463'), datetime.datetime(2017, 6, 21, 0, 0), Decimal('18.54983796'), '20555f7b2372553063a07264ff6d3808', Decimal('71727'), 'brasilia', 'DF', 'd1b65fc7debc3361ea86b5f14c68d2e2', Decimal('13844'), 'mogi guacu', 'SP', 'aab5e2a4e6a2434fb61e694ed85a9888', Decimal('129.9'), Decimal('15.66'), 'papelaria', Decimal('1800'), Decimal('32'), Decimal('40'), Decimal('16')),\n",
       " (datetime.datetime(2017, 5, 23, 23, 25), datetime.datetime(2017, 5, 28, 2, 48), Decimal('4.141122685'), datetime.datetime(2017, 6, 14, 0, 0), Decimal('16.88275463'), 'ff2cfbe44d7249b98eed0e860fe3e53c', Decimal('2310'), 'sao paulo', 'SP', 'd1b65fc7debc3361ea86b5f14c68d2e2', Decimal('13844'), 'mogi guacu', 'SP', '2020db9c389956e879dd05e6250413d8', Decimal('229.9'), Decimal('13.11'), 'malas_acessorios', Decimal('4000'), Decimal('38'), Decimal('52'), Decimal('22')),\n",
       " (datetime.datetime(2017, 5, 23, 23, 25), datetime.datetime(2017, 5, 28, 2, 48), Decimal('4.141122685'), datetime.datetime(2017, 6, 14, 0, 0), Decimal('16.88275463'), 'ff2cfbe44d7249b98eed0e860fe3e53c', Decimal('2310'), 'sao paulo', 'SP', 'd1b65fc7debc3361ea86b5f14c68d2e2', Decimal('13844'), 'mogi guacu', 'SP', 'd3d5a1d52abe9a7d234908d873fc377b', Decimal('229.9'), Decimal('13.11'), 'malas_acessorios', Decimal('4900'), Decimal('38'), Decimal('55'), Decimal('22'))]"
      ]
     },
     "execution_count": 17,
     "metadata": {},
     "output_type": "execute_result"
    }
   ],
   "source": [
    "%%sql\n",
    "SELECT * FROM orders_facts\n",
    "LIMIT 10"
   ]
  },
  {
   "cell_type": "markdown",
   "metadata": {},
   "source": [
    "So far so good. Next we need to look at the current transactional design and build the dimensional equivalent to the design"
   ]
  },
  {
   "cell_type": "markdown",
   "metadata": {},
   "source": [
    "## More ETL with SQL\n",
    "\n",
    "Today we started with this schema: "
   ]
  },
  {
   "cell_type": "code",
   "execution_count": 6,
   "metadata": {},
   "outputs": [],
   "source": [
    "from IPython.display import Image"
   ]
  },
  {
   "cell_type": "code",
   "execution_count": 7,
   "metadata": {},
   "outputs": [
    {
     "data": {
      "image/png": "[encoded data removed]",
      "text/plain": [
       "<IPython.core.display.Image object>"
      ]
     },
     "execution_count": 7,
     "metadata": {},
     "output_type": "execute_result"
    }
   ],
   "source": [
    "Image(\"image1.png\")"
   ]
  },
  {
   "cell_type": "markdown",
   "metadata": {},
   "source": [
    "our aim is to build a star schema that allow us to do analytical analysis and business intellegence on the data. I have created a star schema for discussion. Let's go over the design."
   ]
  },
  {
   "cell_type": "code",
   "execution_count": 8,
   "metadata": {},
   "outputs": [
    {
     "data": {
      "image/png": "[encoded data removed]",
      "text/plain": [
       "<IPython.core.display.Image object>"
      ]
     },
     "execution_count": 8,
     "metadata": {},
     "output_type": "execute_result"
    }
   ],
   "source": [
    "Image(\"image2.png\")"
   ]
  },
  {
   "cell_type": "markdown",
   "metadata": {},
   "source": [
    "Now we can create a new dimension table to house the unique station ids and names. For key we use the data type serial. Check Postgresql documentation @ https://www.postgresql.org/docs/9.5/datatype-numeric.html#DATATYPE-SERIAL serial is the equivalent of creating a sequence that its value is equal to the largest number in the table + 1."
   ]
  },
  {
   "cell_type": "markdown",
   "metadata": {},
   "source": [
    "Customer Dimension"
   ]
  },
  {
   "cell_type": "code",
   "execution_count": 18,
   "metadata": {},
   "outputs": [
    {
     "name": "stdout",
     "output_type": "stream",
     "text": [
      " * postgresql://student@/final_project\n",
      "Done.\n",
      "Done.\n"
     ]
    },
    {
     "data": {
      "text/plain": [
       "[]"
      ]
     },
     "execution_count": 18,
     "metadata": {},
     "output_type": "execute_result"
    }
   ],
   "source": [
    "%%sql\n",
    "DROP TABLE IF EXISTS customer;\n",
    "\n",
    "CREATE TABLE customer (\n",
    "    key SERIAL PRIMARY KEY,\n",
    "    customer_unique_id varchar(100) Not Null,\n",
    "    customer_zip_code_prefix numeric,\n",
    "    customer_city varchar(100),\n",
    "    customer_state varchar(100)\n",
    ");"
   ]
  },
  {
   "cell_type": "markdown",
   "metadata": {},
   "source": [
    "Upload customer information using the union query. serial will automatically insert a serial integer into the table"
   ]
  },
  {
   "cell_type": "code",
   "execution_count": 19,
   "metadata": {},
   "outputs": [
    {
     "name": "stdout",
     "output_type": "stream",
     "text": [
      " * postgresql://student@/final_project\n",
      "95670 rows affected.\n"
     ]
    },
    {
     "data": {
      "text/plain": [
       "[]"
      ]
     },
     "execution_count": 19,
     "metadata": {},
     "output_type": "execute_result"
    }
   ],
   "source": [
    "%%sql\n",
    "INSERT INTO customer (customer_unique_id, customer_zip_code_prefix, customer_city, customer_state)\n",
    "SELECT DISTINCT customer_unique_id AS customer_unique_id, \n",
    "    customer_zip_code_prefix AS customer_zip_code_prefix,\n",
    "    customer_city AS customer_city,\n",
    "    customer_state AS customer_state\n",
    "FROM orders_facts\n",
    "UNION\n",
    "SELECT DISTINCT customer_unique_id AS customer_unique_id, \n",
    "    customer_zip_code_prefix AS customer_zip_code_prefix,\n",
    "    customer_city AS customer_city,\n",
    "    customer_state AS customer_state\n",
    "FROM orders_facts;"
   ]
  },
  {
   "cell_type": "code",
   "execution_count": 20,
   "metadata": {},
   "outputs": [
    {
     "name": "stdout",
     "output_type": "stream",
     "text": [
      " * postgresql://student@/final_project\n",
      "10 rows affected.\n"
     ]
    },
    {
     "data": {
      "text/html": [
       "<table>\n",
       "    <tr>\n",
       "        <th>key</th>\n",
       "        <th>customer_unique_id</th>\n",
       "        <th>customer_zip_code_prefix</th>\n",
       "        <th>customer_city</th>\n",
       "        <th>customer_state</th>\n",
       "    </tr>\n",
       "    <tr>\n",
       "        <td>1</td>\n",
       "        <td>233bced31686284a380870eb2761109f</td>\n",
       "        <td>18480</td>\n",
       "        <td>itaporanga</td>\n",
       "        <td>SP</td>\n",
       "    </tr>\n",
       "    <tr>\n",
       "        <td>2</td>\n",
       "        <td>fe25d225d2494b252321b09821ebdbdf</td>\n",
       "        <td>27420</td>\n",
       "        <td>quatis</td>\n",
       "        <td>RJ</td>\n",
       "    </tr>\n",
       "    <tr>\n",
       "        <td>3</td>\n",
       "        <td>92b18241cb0ae7c3be4c5c9e4b9db371</td>\n",
       "        <td>22743</td>\n",
       "        <td>rio de janeiro</td>\n",
       "        <td>RJ</td>\n",
       "    </tr>\n",
       "    <tr>\n",
       "        <td>4</td>\n",
       "        <td>edc699eb8c0fc6ec7a6ec536382840b3</td>\n",
       "        <td>6714</td>\n",
       "        <td>cotia</td>\n",
       "        <td>SP</td>\n",
       "    </tr>\n",
       "    <tr>\n",
       "        <td>5</td>\n",
       "        <td>41415f9d98446c12f76c9c4d5af62b03</td>\n",
       "        <td>6730</td>\n",
       "        <td>vargem grande paulista</td>\n",
       "        <td>SP</td>\n",
       "    </tr>\n",
       "    <tr>\n",
       "        <td>6</td>\n",
       "        <td>bb182f55e4cff6eabfc26d08354b5995</td>\n",
       "        <td>95900</td>\n",
       "        <td>lajeado</td>\n",
       "        <td>RS</td>\n",
       "    </tr>\n",
       "    <tr>\n",
       "        <td>7</td>\n",
       "        <td>37b708a378a17996174d1b8f6ed3d3e9</td>\n",
       "        <td>20720</td>\n",
       "        <td>rio de janeiro</td>\n",
       "        <td>RJ</td>\n",
       "    </tr>\n",
       "    <tr>\n",
       "        <td>8</td>\n",
       "        <td>9aba54994850ca5befd6f16384e925b2</td>\n",
       "        <td>60140</td>\n",
       "        <td>fortaleza</td>\n",
       "        <td>CE</td>\n",
       "    </tr>\n",
       "    <tr>\n",
       "        <td>9</td>\n",
       "        <td>ead79bd27a251fe8a2070b1304f10044</td>\n",
       "        <td>37270</td>\n",
       "        <td>campo belo</td>\n",
       "        <td>MG</td>\n",
       "    </tr>\n",
       "    <tr>\n",
       "        <td>10</td>\n",
       "        <td>59cd47f7d0957b3cf7860f25986cf4b5</td>\n",
       "        <td>21760</td>\n",
       "        <td>rio de janeiro</td>\n",
       "        <td>RJ</td>\n",
       "    </tr>\n",
       "</table>"
      ],
      "text/plain": [
       "[(1, '233bced31686284a380870eb2761109f', Decimal('18480'), 'itaporanga', 'SP'),\n",
       " (2, 'fe25d225d2494b252321b09821ebdbdf', Decimal('27420'), 'quatis', 'RJ'),\n",
       " (3, '92b18241cb0ae7c3be4c5c9e4b9db371', Decimal('22743'), 'rio de janeiro', 'RJ'),\n",
       " (4, 'edc699eb8c0fc6ec7a6ec536382840b3', Decimal('6714'), 'cotia', 'SP'),\n",
       " (5, '41415f9d98446c12f76c9c4d5af62b03', Decimal('6730'), 'vargem grande paulista', 'SP'),\n",
       " (6, 'bb182f55e4cff6eabfc26d08354b5995', Decimal('95900'), 'lajeado', 'RS'),\n",
       " (7, '37b708a378a17996174d1b8f6ed3d3e9', Decimal('20720'), 'rio de janeiro', 'RJ'),\n",
       " (8, '9aba54994850ca5befd6f16384e925b2', Decimal('60140'), 'fortaleza', 'CE'),\n",
       " (9, 'ead79bd27a251fe8a2070b1304f10044', Decimal('37270'), 'campo belo', 'MG'),\n",
       " (10, '59cd47f7d0957b3cf7860f25986cf4b5', Decimal('21760'), 'rio de janeiro', 'RJ')]"
      ]
     },
     "execution_count": 20,
     "metadata": {},
     "output_type": "execute_result"
    }
   ],
   "source": [
    "%%sql\n",
    "SELECT * FROM customer\n",
    "LIMIT 10;"
   ]
  },
  {
   "cell_type": "markdown",
   "metadata": {},
   "source": [
    "We now add FK customer_key to the fact table. repeat of step 1-3 as describes below"
   ]
  },
  {
   "cell_type": "code",
   "execution_count": 21,
   "metadata": {},
   "outputs": [
    {
     "name": "stdout",
     "output_type": "stream",
     "text": [
      " * postgresql://student@/final_project\n",
      "Done.\n"
     ]
    },
    {
     "data": {
      "text/plain": [
       "[]"
      ]
     },
     "execution_count": 21,
     "metadata": {},
     "output_type": "execute_result"
    }
   ],
   "source": [
    "%%sql\n",
    "-- Step 1\n",
    "ALTER TABLE orders_facts \n",
    "ADD COLUMN customer_key INTEGER,\n",
    "-- Step 2\n",
    "ADD CONSTRAINT fk_customer\n",
    "    FOREIGN KEY (customer_key)\n",
    "    REFERENCES customer (key);"
   ]
  },
  {
   "cell_type": "markdown",
   "metadata": {},
   "source": [
    "Now we update the customer_key in the fact table with the values from customer dimension table based on unique customers."
   ]
  },
  {
   "cell_type": "code",
   "execution_count": 22,
   "metadata": {},
   "outputs": [
    {
     "name": "stdout",
     "output_type": "stream",
     "text": [
      " * postgresql://student@/final_project\n",
      "117601 rows affected.\n"
     ]
    },
    {
     "data": {
      "text/plain": [
       "[]"
      ]
     },
     "execution_count": 22,
     "metadata": {},
     "output_type": "execute_result"
    }
   ],
   "source": [
    "%%sql\n",
    "-- Step 3\n",
    "UPDATE orders_facts AS f\n",
    "SET customer_key = c.key\n",
    "FROM customer AS c\n",
    "WHERE f.customer_unique_id = c.customer_unique_id;"
   ]
  },
  {
   "cell_type": "markdown",
   "metadata": {},
   "source": [
    "Product Dimension"
   ]
  },
  {
   "cell_type": "code",
   "execution_count": 23,
   "metadata": {},
   "outputs": [
    {
     "name": "stdout",
     "output_type": "stream",
     "text": [
      " * postgresql://student@/final_project\n",
      "Done.\n",
      "Done.\n"
     ]
    },
    {
     "data": {
      "text/plain": [
       "[]"
      ]
     },
     "execution_count": 23,
     "metadata": {},
     "output_type": "execute_result"
    }
   ],
   "source": [
    "%%sql\n",
    "DROP TABLE IF EXISTS product;\n",
    "\n",
    "CREATE TABLE product (\n",
    "    key SERIAL PRIMARY KEY,\n",
    "    product_id varchar(100) Not Null,\n",
    "    product_category_name varchar(100)\n",
    ");"
   ]
  },
  {
   "cell_type": "code",
   "execution_count": 24,
   "metadata": {},
   "outputs": [
    {
     "name": "stdout",
     "output_type": "stream",
     "text": [
      " * postgresql://student@/final_project\n",
      "32951 rows affected.\n"
     ]
    },
    {
     "data": {
      "text/plain": [
       "[]"
      ]
     },
     "execution_count": 24,
     "metadata": {},
     "output_type": "execute_result"
    }
   ],
   "source": [
    "%%sql\n",
    "INSERT INTO product (product_id, product_category_name)\n",
    "SELECT DISTINCT product_id AS product_id, \n",
    "    product_category_name AS product_category_name\n",
    "FROM orders_facts\n",
    "UNION\n",
    "SELECT DISTINCT product_id AS product_id, \n",
    "    product_category_name AS product_category_name\n",
    "FROM orders_facts;"
   ]
  },
  {
   "cell_type": "code",
   "execution_count": 25,
   "metadata": {},
   "outputs": [
    {
     "name": "stdout",
     "output_type": "stream",
     "text": [
      " * postgresql://student@/final_project\n",
      "5 rows affected.\n"
     ]
    },
    {
     "data": {
      "text/html": [
       "<table>\n",
       "    <tr>\n",
       "        <th>key</th>\n",
       "        <th>product_id</th>\n",
       "        <th>product_category_name</th>\n",
       "    </tr>\n",
       "    <tr>\n",
       "        <td>1</td>\n",
       "        <td>59542ce967e2cbc86b0cfd48baf77d96</td>\n",
       "        <td>informatica_acessorios</td>\n",
       "    </tr>\n",
       "    <tr>\n",
       "        <td>2</td>\n",
       "        <td>0a2fff0d95ef3bbb7dffc618f9542ba9</td>\n",
       "        <td>relogios_presentes</td>\n",
       "    </tr>\n",
       "    <tr>\n",
       "        <td>3</td>\n",
       "        <td>87f87c717c93f801e1a62367ce5ff63f</td>\n",
       "        <td>construcao_ferramentas_iluminacao</td>\n",
       "    </tr>\n",
       "    <tr>\n",
       "        <td>4</td>\n",
       "        <td>c03538c4936ed498a78ab92db5105f46</td>\n",
       "        <td>utilidades_domesticas</td>\n",
       "    </tr>\n",
       "    <tr>\n",
       "        <td>5</td>\n",
       "        <td>112dad9870ca76046f327b9c08f00b29</td>\n",
       "        <td>brinquedos</td>\n",
       "    </tr>\n",
       "</table>"
      ],
      "text/plain": [
       "[(1, '59542ce967e2cbc86b0cfd48baf77d96', 'informatica_acessorios'),\n",
       " (2, '0a2fff0d95ef3bbb7dffc618f9542ba9', 'relogios_presentes'),\n",
       " (3, '87f87c717c93f801e1a62367ce5ff63f', 'construcao_ferramentas_iluminacao'),\n",
       " (4, 'c03538c4936ed498a78ab92db5105f46', 'utilidades_domesticas'),\n",
       " (5, '112dad9870ca76046f327b9c08f00b29', 'brinquedos')]"
      ]
     },
     "execution_count": 25,
     "metadata": {},
     "output_type": "execute_result"
    }
   ],
   "source": [
    "%%sql\n",
    "SELECT * FROM product\n",
    "LIMIT 5;"
   ]
  },
  {
   "cell_type": "markdown",
   "metadata": {},
   "source": [
    "Load order_reviews.csv into relational database"
   ]
  },
  {
   "cell_type": "code",
   "execution_count": 26,
   "metadata": {},
   "outputs": [
    {
     "name": "stdout",
     "output_type": "stream",
     "text": [
      " * postgresql://student@/final_project\n",
      "Done.\n"
     ]
    },
    {
     "data": {
      "text/plain": [
       "[]"
      ]
     },
     "execution_count": 26,
     "metadata": {},
     "output_type": "execute_result"
    }
   ],
   "source": [
    "%%sql\n",
    "-- Step 1\n",
    "ALTER TABLE orders_facts \n",
    "ADD COLUMN product_key INTEGER,\n",
    "-- Step 2\n",
    "ADD CONSTRAINT fk_product\n",
    "    FOREIGN KEY (product_key)\n",
    "    REFERENCES product (key);"
   ]
  },
  {
   "cell_type": "code",
   "execution_count": 27,
   "metadata": {},
   "outputs": [
    {
     "name": "stdout",
     "output_type": "stream",
     "text": [
      " * postgresql://student@/final_project\n",
      "117601 rows affected.\n"
     ]
    },
    {
     "data": {
      "text/plain": [
       "[]"
      ]
     },
     "execution_count": 27,
     "metadata": {},
     "output_type": "execute_result"
    }
   ],
   "source": [
    "%%sql\n",
    "-- Step 3\n",
    "UPDATE orders_facts AS f\n",
    "SET product_key = p.key\n",
    "FROM product AS p\n",
    "WHERE f.product_id = p.product_id;"
   ]
  },
  {
   "cell_type": "markdown",
   "metadata": {},
   "source": [
    "Seller Dimension"
   ]
  },
  {
   "cell_type": "code",
   "execution_count": 28,
   "metadata": {},
   "outputs": [
    {
     "name": "stdout",
     "output_type": "stream",
     "text": [
      " * postgresql://student@/final_project\n",
      "Done.\n",
      "Done.\n"
     ]
    },
    {
     "data": {
      "text/plain": [
       "[]"
      ]
     },
     "execution_count": 28,
     "metadata": {},
     "output_type": "execute_result"
    }
   ],
   "source": [
    "%%sql\n",
    "DROP TABLE IF EXISTS seller;\n",
    "\n",
    "CREATE TABLE seller (\n",
    "    key SERIAL PRIMARY KEY,\n",
    "    seller_id varchar(100) Not Null,\n",
    "    seller_zip_code_prefix numeric,\n",
    "    seller_city varchar(100),\n",
    "    seller_state varchar(100)\n",
    ");"
   ]
  },
  {
   "cell_type": "code",
   "execution_count": 29,
   "metadata": {},
   "outputs": [
    {
     "name": "stdout",
     "output_type": "stream",
     "text": [
      " * postgresql://student@/final_project\n",
      "3095 rows affected.\n"
     ]
    },
    {
     "data": {
      "text/plain": [
       "[]"
      ]
     },
     "execution_count": 29,
     "metadata": {},
     "output_type": "execute_result"
    }
   ],
   "source": [
    "%%sql\n",
    "INSERT INTO seller (seller_id, seller_zip_code_prefix, seller_city, seller_state)\n",
    "SELECT DISTINCT seller_id AS seller_id, \n",
    "    seller_zip_code_prefix AS seller_zip_code_prefix,\n",
    "    seller_city AS seller_city,\n",
    "    seller_state AS seller_state\n",
    "FROM orders_facts\n",
    "UNION\n",
    "SELECT DISTINCT seller_id AS seller_id, \n",
    "    seller_zip_code_prefix AS seller_zip_code_prefix,\n",
    "    seller_city AS seller_city,\n",
    "    seller_state AS seller_state\n",
    "FROM orders_facts;"
   ]
  },
  {
   "cell_type": "code",
   "execution_count": 30,
   "metadata": {},
   "outputs": [
    {
     "name": "stdout",
     "output_type": "stream",
     "text": [
      " * postgresql://student@/final_project\n",
      "5 rows affected.\n"
     ]
    },
    {
     "data": {
      "text/html": [
       "<table>\n",
       "    <tr>\n",
       "        <th>key</th>\n",
       "        <th>seller_id</th>\n",
       "        <th>seller_zip_code_prefix</th>\n",
       "        <th>seller_city</th>\n",
       "        <th>seller_state</th>\n",
       "    </tr>\n",
       "    <tr>\n",
       "        <td>1</td>\n",
       "        <td>0015a82c2db000af6aaaf3ae2ecb0532</td>\n",
       "        <td>9080</td>\n",
       "        <td>santo andre</td>\n",
       "        <td>SP</td>\n",
       "    </tr>\n",
       "    <tr>\n",
       "        <td>2</td>\n",
       "        <td>001cca7ae9ae17fb1caed9dfb1094831</td>\n",
       "        <td>29156</td>\n",
       "        <td>cariacica</td>\n",
       "        <td>ES</td>\n",
       "    </tr>\n",
       "    <tr>\n",
       "        <td>3</td>\n",
       "        <td>001e6ad469a905060d959994f1b41e4f</td>\n",
       "        <td>24754</td>\n",
       "        <td>sao goncalo</td>\n",
       "        <td>RJ</td>\n",
       "    </tr>\n",
       "    <tr>\n",
       "        <td>4</td>\n",
       "        <td>002100f778ceb8431b7a1020ff7ab48f</td>\n",
       "        <td>14405</td>\n",
       "        <td>franca</td>\n",
       "        <td>SP</td>\n",
       "    </tr>\n",
       "    <tr>\n",
       "        <td>5</td>\n",
       "        <td>003554e2dce176b5555353e4f3555ac8</td>\n",
       "        <td>74565</td>\n",
       "        <td>goiania</td>\n",
       "        <td>GO</td>\n",
       "    </tr>\n",
       "</table>"
      ],
      "text/plain": [
       "[(1, '0015a82c2db000af6aaaf3ae2ecb0532', Decimal('9080'), 'santo andre', 'SP'),\n",
       " (2, '001cca7ae9ae17fb1caed9dfb1094831', Decimal('29156'), 'cariacica', 'ES'),\n",
       " (3, '001e6ad469a905060d959994f1b41e4f', Decimal('24754'), 'sao goncalo', 'RJ'),\n",
       " (4, '002100f778ceb8431b7a1020ff7ab48f', Decimal('14405'), 'franca', 'SP'),\n",
       " (5, '003554e2dce176b5555353e4f3555ac8', Decimal('74565'), 'goiania', 'GO')]"
      ]
     },
     "execution_count": 30,
     "metadata": {},
     "output_type": "execute_result"
    }
   ],
   "source": [
    "%%sql\n",
    "select *\n",
    "from seller\n",
    "limit 5"
   ]
  },
  {
   "cell_type": "code",
   "execution_count": 31,
   "metadata": {},
   "outputs": [
    {
     "name": "stdout",
     "output_type": "stream",
     "text": [
      " * postgresql://student@/final_project\n",
      "Done.\n"
     ]
    },
    {
     "data": {
      "text/plain": [
       "[]"
      ]
     },
     "execution_count": 31,
     "metadata": {},
     "output_type": "execute_result"
    }
   ],
   "source": [
    "%%sql\n",
    "-- Step 1\n",
    "ALTER TABLE orders_facts \n",
    "ADD COLUMN seller_key INTEGER,\n",
    "-- Step 2\n",
    "ADD CONSTRAINT fk_seller\n",
    "    FOREIGN KEY (seller_key)\n",
    "    REFERENCES seller (key);"
   ]
  },
  {
   "cell_type": "code",
   "execution_count": 32,
   "metadata": {},
   "outputs": [
    {
     "name": "stdout",
     "output_type": "stream",
     "text": [
      " * postgresql://student@/final_project\n",
      "117601 rows affected.\n"
     ]
    },
    {
     "data": {
      "text/plain": [
       "[]"
      ]
     },
     "execution_count": 32,
     "metadata": {},
     "output_type": "execute_result"
    }
   ],
   "source": [
    "%%sql\n",
    "-- Step 3\n",
    "UPDATE orders_facts AS f\n",
    "SET seller_key = s.key\n",
    "FROM seller AS s\n",
    "WHERE f.seller_id = s.seller_id;"
   ]
  },
  {
   "cell_type": "markdown",
   "metadata": {},
   "source": [
    "### Creating the hour dimension table\n",
    "#### Link hour dimension table to the orders_facts table"
   ]
  },
  {
   "cell_type": "code",
   "execution_count": 33,
   "metadata": {},
   "outputs": [
    {
     "name": "stdout",
     "output_type": "stream",
     "text": [
      " * postgresql://student@/final_project\n",
      "10 rows affected.\n"
     ]
    },
    {
     "data": {
      "text/html": [
       "<table>\n",
       "    <tr>\n",
       "        <th>hour</th>\n",
       "        <th>day</th>\n",
       "        <th>year</th>\n",
       "        <th>month_of_year_str</th>\n",
       "        <th>month_of_year</th>\n",
       "        <th>day_of_month</th>\n",
       "        <th>day_of_week_str</th>\n",
       "        <th>day_of_week</th>\n",
       "        <th>is_weekend</th>\n",
       "        <th>is_weekday</th>\n",
       "        <th>hour_of_day</th>\n",
       "        <th>quarter_of_year</th>\n",
       "    </tr>\n",
       "    <tr>\n",
       "        <td>2016-09-04 21:00:00</td>\n",
       "        <td>2016-09-04</td>\n",
       "        <td>2016</td>\n",
       "        <td>September</td>\n",
       "        <td>09</td>\n",
       "        <td>04</td>\n",
       "        <td>Sunday   </td>\n",
       "        <td>1</td>\n",
       "        <td>false</td>\n",
       "        <td>true</td>\n",
       "        <td>21</td>\n",
       "        <td>3</td>\n",
       "    </tr>\n",
       "    <tr>\n",
       "        <td>2016-09-05 00:00:00</td>\n",
       "        <td>2016-09-05</td>\n",
       "        <td>2016</td>\n",
       "        <td>September</td>\n",
       "        <td>09</td>\n",
       "        <td>05</td>\n",
       "        <td>Monday   </td>\n",
       "        <td>2</td>\n",
       "        <td>false</td>\n",
       "        <td>true</td>\n",
       "        <td>00</td>\n",
       "        <td>3</td>\n",
       "    </tr>\n",
       "    <tr>\n",
       "        <td>2016-10-02 22:00:00</td>\n",
       "        <td>2016-10-02</td>\n",
       "        <td>2016</td>\n",
       "        <td>October  </td>\n",
       "        <td>10</td>\n",
       "        <td>02</td>\n",
       "        <td>Sunday   </td>\n",
       "        <td>1</td>\n",
       "        <td>false</td>\n",
       "        <td>true</td>\n",
       "        <td>22</td>\n",
       "        <td>4</td>\n",
       "    </tr>\n",
       "    <tr>\n",
       "        <td>2016-10-03 09:00:00</td>\n",
       "        <td>2016-10-03</td>\n",
       "        <td>2016</td>\n",
       "        <td>October  </td>\n",
       "        <td>10</td>\n",
       "        <td>03</td>\n",
       "        <td>Monday   </td>\n",
       "        <td>2</td>\n",
       "        <td>false</td>\n",
       "        <td>true</td>\n",
       "        <td>09</td>\n",
       "        <td>4</td>\n",
       "    </tr>\n",
       "    <tr>\n",
       "        <td>2016-10-03 16:00:00</td>\n",
       "        <td>2016-10-03</td>\n",
       "        <td>2016</td>\n",
       "        <td>October  </td>\n",
       "        <td>10</td>\n",
       "        <td>03</td>\n",
       "        <td>Monday   </td>\n",
       "        <td>2</td>\n",
       "        <td>false</td>\n",
       "        <td>true</td>\n",
       "        <td>16</td>\n",
       "        <td>4</td>\n",
       "    </tr>\n",
       "    <tr>\n",
       "        <td>2016-10-03 21:00:00</td>\n",
       "        <td>2016-10-03</td>\n",
       "        <td>2016</td>\n",
       "        <td>October  </td>\n",
       "        <td>10</td>\n",
       "        <td>03</td>\n",
       "        <td>Monday   </td>\n",
       "        <td>2</td>\n",
       "        <td>false</td>\n",
       "        <td>true</td>\n",
       "        <td>21</td>\n",
       "        <td>4</td>\n",
       "    </tr>\n",
       "    <tr>\n",
       "        <td>2016-10-03 22:00:00</td>\n",
       "        <td>2016-10-03</td>\n",
       "        <td>2016</td>\n",
       "        <td>October  </td>\n",
       "        <td>10</td>\n",
       "        <td>03</td>\n",
       "        <td>Monday   </td>\n",
       "        <td>2</td>\n",
       "        <td>false</td>\n",
       "        <td>true</td>\n",
       "        <td>22</td>\n",
       "        <td>4</td>\n",
       "    </tr>\n",
       "    <tr>\n",
       "        <td>2016-10-04 09:00:00</td>\n",
       "        <td>2016-10-04</td>\n",
       "        <td>2016</td>\n",
       "        <td>October  </td>\n",
       "        <td>10</td>\n",
       "        <td>04</td>\n",
       "        <td>Tuesday  </td>\n",
       "        <td>3</td>\n",
       "        <td>false</td>\n",
       "        <td>true</td>\n",
       "        <td>09</td>\n",
       "        <td>4</td>\n",
       "    </tr>\n",
       "    <tr>\n",
       "        <td>2016-10-04 10:00:00</td>\n",
       "        <td>2016-10-04</td>\n",
       "        <td>2016</td>\n",
       "        <td>October  </td>\n",
       "        <td>10</td>\n",
       "        <td>04</td>\n",
       "        <td>Tuesday  </td>\n",
       "        <td>3</td>\n",
       "        <td>false</td>\n",
       "        <td>true</td>\n",
       "        <td>10</td>\n",
       "        <td>4</td>\n",
       "    </tr>\n",
       "    <tr>\n",
       "        <td>2016-10-04 11:00:00</td>\n",
       "        <td>2016-10-04</td>\n",
       "        <td>2016</td>\n",
       "        <td>October  </td>\n",
       "        <td>10</td>\n",
       "        <td>04</td>\n",
       "        <td>Tuesday  </td>\n",
       "        <td>3</td>\n",
       "        <td>false</td>\n",
       "        <td>true</td>\n",
       "        <td>11</td>\n",
       "        <td>4</td>\n",
       "    </tr>\n",
       "</table>"
      ],
      "text/plain": [
       "[('2016-09-04 21:00:00', '2016-09-04', '2016', 'September', '09', '04', 'Sunday   ', '1', 'false', 'true', '21', '3'),\n",
       " ('2016-09-05 00:00:00', '2016-09-05', '2016', 'September', '09', '05', 'Monday   ', '2', 'false', 'true', '00', '3'),\n",
       " ('2016-10-02 22:00:00', '2016-10-02', '2016', 'October  ', '10', '02', 'Sunday   ', '1', 'false', 'true', '22', '4'),\n",
       " ('2016-10-03 09:00:00', '2016-10-03', '2016', 'October  ', '10', '03', 'Monday   ', '2', 'false', 'true', '09', '4'),\n",
       " ('2016-10-03 16:00:00', '2016-10-03', '2016', 'October  ', '10', '03', 'Monday   ', '2', 'false', 'true', '16', '4'),\n",
       " ('2016-10-03 21:00:00', '2016-10-03', '2016', 'October  ', '10', '03', 'Monday   ', '2', 'false', 'true', '21', '4'),\n",
       " ('2016-10-03 22:00:00', '2016-10-03', '2016', 'October  ', '10', '03', 'Monday   ', '2', 'false', 'true', '22', '4'),\n",
       " ('2016-10-04 09:00:00', '2016-10-04', '2016', 'October  ', '10', '04', 'Tuesday  ', '3', 'false', 'true', '09', '4'),\n",
       " ('2016-10-04 10:00:00', '2016-10-04', '2016', 'October  ', '10', '04', 'Tuesday  ', '3', 'false', 'true', '10', '4'),\n",
       " ('2016-10-04 11:00:00', '2016-10-04', '2016', 'October  ', '10', '04', 'Tuesday  ', '3', 'false', 'true', '11', '4')]"
      ]
     },
     "execution_count": 33,
     "metadata": {},
     "output_type": "execute_result"
    }
   ],
   "source": [
    "%%sql\n",
    "SELECT DISTINCT TO_CHAR(order_purchase_timestamp, 'YYYY-MM-DD HH24:00:00') AS hour,\n",
    "    TO_CHAR(order_purchase_timestamp, 'YYYY-MM-DD') AS day, \n",
    "    TO_CHAR(order_purchase_timestamp, 'YYYY') AS year,\n",
    "    TO_CHAR(order_purchase_timestamp, 'Month') AS month_of_year_str,\n",
    "    TO_CHAR(order_purchase_timestamp, 'MM') AS month_of_year,\n",
    "    TO_CHAR(order_purchase_timestamp, 'DD') AS day_of_month,\n",
    "    TO_CHAR(order_purchase_timestamp, 'Day') AS day_of_week_str,\n",
    "    TO_CHAR(order_purchase_timestamp, 'D') AS day_of_week,\n",
    "    CASE WHEN CAST(TO_CHAR(order_purchase_timestamp, 'D') AS INTEGER) >= 6 \n",
    "        THEN 'true' \n",
    "        ELSE 'false'\n",
    "    END AS is_weekend,\n",
    "    CASE WHEN CAST(TO_CHAR(order_purchase_timestamp, 'D') AS INTEGER) < 6 \n",
    "        THEN 'true' \n",
    "        ELSE 'false'\n",
    "    END AS is_weekday,\n",
    "    TO_CHAR(order_purchase_timestamp, 'HH24') AS hour_of_day,\n",
    "    TO_CHAR(order_purchase_timestamp, 'Q') AS quarter_of_year\n",
    "FROM orders_facts\n",
    "LIMIT 10;"
   ]
  },
  {
   "cell_type": "markdown",
   "metadata": {},
   "source": [
    "creating dimension table Hour"
   ]
  },
  {
   "cell_type": "code",
   "execution_count": 34,
   "metadata": {},
   "outputs": [
    {
     "name": "stdout",
     "output_type": "stream",
     "text": [
      " * postgresql://student@/final_project\n",
      "Done.\n",
      "Done.\n"
     ]
    },
    {
     "data": {
      "text/plain": [
       "[]"
      ]
     },
     "execution_count": 34,
     "metadata": {},
     "output_type": "execute_result"
    }
   ],
   "source": [
    "%%sql\n",
    "DROP TABLE IF EXISTS hour;\n",
    "\n",
    "CREATE TABLE hour (\n",
    "    key SERIAL PRIMARY KEY,\n",
    "    hour CHAR(19),\n",
    "    day CHAR(10),\n",
    "    year INTEGER,\n",
    "    month_of_year_str VARCHAR(12),\n",
    "    month_of_year INTEGER,\n",
    "    day_of_month INTEGER,\n",
    "    day_of_week_str CHAR(9),\n",
    "    day_of_week INTEGER,\n",
    "    is_weekend BOOLEAN,\n",
    "    is_weekday BOOLEAN,\n",
    "    hour_of_day INTEGER,\n",
    "    quarter_of_year INTEGER\n",
    ");"
   ]
  },
  {
   "cell_type": "markdown",
   "metadata": {},
   "source": [
    "Populating dimension table hour with data from orders_facts (union of order_purchase_timestamp and order_delivered_customer_date)"
   ]
  },
  {
   "cell_type": "code",
   "execution_count": 35,
   "metadata": {},
   "outputs": [
    {
     "name": "stdout",
     "output_type": "stream",
     "text": [
      " * postgresql://student@/final_project\n",
      "12923 rows affected.\n"
     ]
    },
    {
     "data": {
      "text/plain": [
       "[]"
      ]
     },
     "execution_count": 35,
     "metadata": {},
     "output_type": "execute_result"
    }
   ],
   "source": [
    "%%sql\n",
    "INSERT INTO hour (hour, day, year, month_of_year_str, month_of_year, day_of_month, \n",
    "                  day_of_week_str, day_of_week, is_weekend, is_weekday, \n",
    "                  hour_of_day, quarter_of_year)\n",
    "SELECT DISTINCT TO_CHAR(order_purchase_timestamp, 'YYYY-MM-DD HH24:00:00') AS hour,\n",
    "    TO_CHAR(order_purchase_timestamp, 'YYYY-MM-DD') AS day, \n",
    "    CAST(TO_CHAR(order_purchase_timestamp, 'YYYY') AS INTEGER) AS year,\n",
    "    TO_CHAR(order_purchase_timestamp, 'Month') AS month_of_year_str,\n",
    "    CAST(TO_CHAR(order_purchase_timestamp, 'MM') AS INTEGER) AS month_of_year,\n",
    "    CAST(TO_CHAR(order_purchase_timestamp, 'DD') AS INTEGER) AS day_of_month,\n",
    "    TO_CHAR(order_purchase_timestamp, 'Day') AS day_of_week_str,\n",
    "    CAST(TO_CHAR(order_purchase_timestamp, 'D') AS INTEGER) AS day_of_week,\n",
    "    CASE WHEN CAST(TO_CHAR(order_purchase_timestamp, 'D') AS INTEGER) IN (1, 7) \n",
    "        THEN TRUE\n",
    "        ELSE FALSE\n",
    "    END AS is_weekend,\n",
    "    CASE WHEN CAST(TO_CHAR(order_purchase_timestamp, 'D') AS INTEGER) NOT IN (1, 7) \n",
    "        THEN TRUE\n",
    "        ELSE FALSE\n",
    "    END AS is_weekday,\n",
    "    CAST(TO_CHAR(order_purchase_timestamp, 'HH24') AS INTEGER) AS hour_of_day,\n",
    "    CAST(TO_CHAR(order_purchase_timestamp, 'Q') AS INTEGER) AS quarter_of_year\n",
    "FROM orders_facts\n",
    "UNION\n",
    "SELECT DISTINCT TO_CHAR(order_delivered_customer_date, 'YYYY-MM-DD HH24:00:00') AS hour,\n",
    "    TO_CHAR(order_delivered_customer_date, 'YYYY-MM-DD') AS day, \n",
    "    CAST(TO_CHAR(order_delivered_customer_date, 'YYYY') AS INTEGER) AS year,\n",
    "    TO_CHAR(order_delivered_customer_date, 'Month') AS month_of_year_str,\n",
    "    CAST(TO_CHAR(order_delivered_customer_date, 'MM') AS INTEGER) AS month_of_year,\n",
    "    CAST(TO_CHAR(order_delivered_customer_date, 'DD') AS INTEGER) AS day_of_month,\n",
    "    TO_CHAR(order_delivered_customer_date, 'Day') AS day_of_week_str,\n",
    "    CAST(TO_CHAR(order_delivered_customer_date, 'D') AS INTEGER) AS day_of_week,\n",
    "    CASE WHEN CAST(TO_CHAR(order_delivered_customer_date, 'D') AS INTEGER) IN (1, 7) \n",
    "        THEN TRUE\n",
    "        ELSE FALSE\n",
    "    END AS is_weekend,\n",
    "    CASE WHEN CAST(TO_CHAR(order_delivered_customer_date, 'D') AS INTEGER) NOT IN (1, 7) \n",
    "        THEN TRUE\n",
    "        ELSE FALSE\n",
    "    END AS is_weekday,\n",
    "    CAST(TO_CHAR(order_delivered_customer_date, 'HH24') AS INTEGER) AS hour_of_day,\n",
    "    CAST(TO_CHAR(order_delivered_customer_date, 'Q') AS INTEGER) AS quarter_of_year\n",
    "FROM orders_facts;"
   ]
  },
  {
   "cell_type": "code",
   "execution_count": 36,
   "metadata": {},
   "outputs": [
    {
     "name": "stdout",
     "output_type": "stream",
     "text": [
      " * postgresql://student@/final_project\n",
      "10 rows affected.\n"
     ]
    },
    {
     "data": {
      "text/html": [
       "<table>\n",
       "    <tr>\n",
       "        <th>key</th>\n",
       "        <th>hour</th>\n",
       "        <th>day</th>\n",
       "        <th>year</th>\n",
       "        <th>month_of_year_str</th>\n",
       "        <th>month_of_year</th>\n",
       "        <th>day_of_month</th>\n",
       "        <th>day_of_week_str</th>\n",
       "        <th>day_of_week</th>\n",
       "        <th>is_weekend</th>\n",
       "        <th>is_weekday</th>\n",
       "        <th>hour_of_day</th>\n",
       "        <th>quarter_of_year</th>\n",
       "    </tr>\n",
       "    <tr>\n",
       "        <td>1</td>\n",
       "        <td>2016-09-04 21:00:00</td>\n",
       "        <td>2016-09-04</td>\n",
       "        <td>2016</td>\n",
       "        <td>September</td>\n",
       "        <td>9</td>\n",
       "        <td>4</td>\n",
       "        <td>Sunday   </td>\n",
       "        <td>1</td>\n",
       "        <td>True</td>\n",
       "        <td>False</td>\n",
       "        <td>21</td>\n",
       "        <td>3</td>\n",
       "    </tr>\n",
       "    <tr>\n",
       "        <td>2</td>\n",
       "        <td>2016-09-05 00:00:00</td>\n",
       "        <td>2016-09-05</td>\n",
       "        <td>2016</td>\n",
       "        <td>September</td>\n",
       "        <td>9</td>\n",
       "        <td>5</td>\n",
       "        <td>Monday   </td>\n",
       "        <td>2</td>\n",
       "        <td>False</td>\n",
       "        <td>True</td>\n",
       "        <td>0</td>\n",
       "        <td>3</td>\n",
       "    </tr>\n",
       "    <tr>\n",
       "        <td>3</td>\n",
       "        <td>2016-10-02 22:00:00</td>\n",
       "        <td>2016-10-02</td>\n",
       "        <td>2016</td>\n",
       "        <td>October  </td>\n",
       "        <td>10</td>\n",
       "        <td>2</td>\n",
       "        <td>Sunday   </td>\n",
       "        <td>1</td>\n",
       "        <td>True</td>\n",
       "        <td>False</td>\n",
       "        <td>22</td>\n",
       "        <td>4</td>\n",
       "    </tr>\n",
       "    <tr>\n",
       "        <td>4</td>\n",
       "        <td>2016-10-03 09:00:00</td>\n",
       "        <td>2016-10-03</td>\n",
       "        <td>2016</td>\n",
       "        <td>October  </td>\n",
       "        <td>10</td>\n",
       "        <td>3</td>\n",
       "        <td>Monday   </td>\n",
       "        <td>2</td>\n",
       "        <td>False</td>\n",
       "        <td>True</td>\n",
       "        <td>9</td>\n",
       "        <td>4</td>\n",
       "    </tr>\n",
       "    <tr>\n",
       "        <td>5</td>\n",
       "        <td>2016-10-03 16:00:00</td>\n",
       "        <td>2016-10-03</td>\n",
       "        <td>2016</td>\n",
       "        <td>October  </td>\n",
       "        <td>10</td>\n",
       "        <td>3</td>\n",
       "        <td>Monday   </td>\n",
       "        <td>2</td>\n",
       "        <td>False</td>\n",
       "        <td>True</td>\n",
       "        <td>16</td>\n",
       "        <td>4</td>\n",
       "    </tr>\n",
       "    <tr>\n",
       "        <td>6</td>\n",
       "        <td>2016-10-03 21:00:00</td>\n",
       "        <td>2016-10-03</td>\n",
       "        <td>2016</td>\n",
       "        <td>October  </td>\n",
       "        <td>10</td>\n",
       "        <td>3</td>\n",
       "        <td>Monday   </td>\n",
       "        <td>2</td>\n",
       "        <td>False</td>\n",
       "        <td>True</td>\n",
       "        <td>21</td>\n",
       "        <td>4</td>\n",
       "    </tr>\n",
       "    <tr>\n",
       "        <td>7</td>\n",
       "        <td>2016-10-03 22:00:00</td>\n",
       "        <td>2016-10-03</td>\n",
       "        <td>2016</td>\n",
       "        <td>October  </td>\n",
       "        <td>10</td>\n",
       "        <td>3</td>\n",
       "        <td>Monday   </td>\n",
       "        <td>2</td>\n",
       "        <td>False</td>\n",
       "        <td>True</td>\n",
       "        <td>22</td>\n",
       "        <td>4</td>\n",
       "    </tr>\n",
       "    <tr>\n",
       "        <td>8</td>\n",
       "        <td>2016-10-04 09:00:00</td>\n",
       "        <td>2016-10-04</td>\n",
       "        <td>2016</td>\n",
       "        <td>October  </td>\n",
       "        <td>10</td>\n",
       "        <td>4</td>\n",
       "        <td>Tuesday  </td>\n",
       "        <td>3</td>\n",
       "        <td>False</td>\n",
       "        <td>True</td>\n",
       "        <td>9</td>\n",
       "        <td>4</td>\n",
       "    </tr>\n",
       "    <tr>\n",
       "        <td>9</td>\n",
       "        <td>2016-10-04 10:00:00</td>\n",
       "        <td>2016-10-04</td>\n",
       "        <td>2016</td>\n",
       "        <td>October  </td>\n",
       "        <td>10</td>\n",
       "        <td>4</td>\n",
       "        <td>Tuesday  </td>\n",
       "        <td>3</td>\n",
       "        <td>False</td>\n",
       "        <td>True</td>\n",
       "        <td>10</td>\n",
       "        <td>4</td>\n",
       "    </tr>\n",
       "    <tr>\n",
       "        <td>10</td>\n",
       "        <td>2016-10-04 11:00:00</td>\n",
       "        <td>2016-10-04</td>\n",
       "        <td>2016</td>\n",
       "        <td>October  </td>\n",
       "        <td>10</td>\n",
       "        <td>4</td>\n",
       "        <td>Tuesday  </td>\n",
       "        <td>3</td>\n",
       "        <td>False</td>\n",
       "        <td>True</td>\n",
       "        <td>11</td>\n",
       "        <td>4</td>\n",
       "    </tr>\n",
       "</table>"
      ],
      "text/plain": [
       "[(1, '2016-09-04 21:00:00', '2016-09-04', 2016, 'September', 9, 4, 'Sunday   ', 1, True, False, 21, 3),\n",
       " (2, '2016-09-05 00:00:00', '2016-09-05', 2016, 'September', 9, 5, 'Monday   ', 2, False, True, 0, 3),\n",
       " (3, '2016-10-02 22:00:00', '2016-10-02', 2016, 'October  ', 10, 2, 'Sunday   ', 1, True, False, 22, 4),\n",
       " (4, '2016-10-03 09:00:00', '2016-10-03', 2016, 'October  ', 10, 3, 'Monday   ', 2, False, True, 9, 4),\n",
       " (5, '2016-10-03 16:00:00', '2016-10-03', 2016, 'October  ', 10, 3, 'Monday   ', 2, False, True, 16, 4),\n",
       " (6, '2016-10-03 21:00:00', '2016-10-03', 2016, 'October  ', 10, 3, 'Monday   ', 2, False, True, 21, 4),\n",
       " (7, '2016-10-03 22:00:00', '2016-10-03', 2016, 'October  ', 10, 3, 'Monday   ', 2, False, True, 22, 4),\n",
       " (8, '2016-10-04 09:00:00', '2016-10-04', 2016, 'October  ', 10, 4, 'Tuesday  ', 3, False, True, 9, 4),\n",
       " (9, '2016-10-04 10:00:00', '2016-10-04', 2016, 'October  ', 10, 4, 'Tuesday  ', 3, False, True, 10, 4),\n",
       " (10, '2016-10-04 11:00:00', '2016-10-04', 2016, 'October  ', 10, 4, 'Tuesday  ', 3, False, True, 11, 4)]"
      ]
     },
     "execution_count": 36,
     "metadata": {},
     "output_type": "execute_result"
    }
   ],
   "source": [
    "%%sql\n",
    "SELECT * FROM hour\n",
    "LIMIT 10;"
   ]
  },
  {
   "cell_type": "markdown",
   "metadata": {},
   "source": [
    "We now add FK start_hour_key to the fact table. repeat of step 1-3 as describes above"
   ]
  },
  {
   "cell_type": "code",
   "execution_count": 37,
   "metadata": {},
   "outputs": [
    {
     "name": "stdout",
     "output_type": "stream",
     "text": [
      " * postgresql://student@/final_project\n",
      "Done.\n"
     ]
    },
    {
     "data": {
      "text/plain": [
       "[]"
      ]
     },
     "execution_count": 37,
     "metadata": {},
     "output_type": "execute_result"
    }
   ],
   "source": [
    "%%sql\n",
    "-- Step 1\n",
    "ALTER TABLE orders_facts \n",
    "ADD COLUMN order_key INTEGER,\n",
    "-- Step 2\n",
    "ADD CONSTRAINT fk_order_hour\n",
    "    FOREIGN KEY (order_key)\n",
    "    REFERENCES hour (key);"
   ]
  },
  {
   "cell_type": "markdown",
   "metadata": {},
   "source": [
    "Now we update the start_hour_key in the fact table with the values from hour dimension table based on start time of the trips."
   ]
  },
  {
   "cell_type": "code",
   "execution_count": 38,
   "metadata": {},
   "outputs": [
    {
     "name": "stdout",
     "output_type": "stream",
     "text": [
      " * postgresql://student@/final_project\n",
      "117601 rows affected.\n"
     ]
    },
    {
     "data": {
      "text/plain": [
       "[]"
      ]
     },
     "execution_count": 38,
     "metadata": {},
     "output_type": "execute_result"
    }
   ],
   "source": [
    "%%sql\n",
    "-- Step 3\n",
    "UPDATE orders_facts\n",
    "SET order_key = hour.key\n",
    "FROM hour\n",
    "WHERE TO_CHAR(orders_facts.order_purchase_timestamp, 'YYYY-MM-DD HH24:00:00') = hour.hour;"
   ]
  },
  {
   "cell_type": "markdown",
   "metadata": {},
   "source": [
    "Do the same for the deliver_key"
   ]
  },
  {
   "cell_type": "code",
   "execution_count": 39,
   "metadata": {},
   "outputs": [
    {
     "name": "stdout",
     "output_type": "stream",
     "text": [
      " * postgresql://student@/final_project\n",
      "Done.\n"
     ]
    },
    {
     "data": {
      "text/plain": [
       "[]"
      ]
     },
     "execution_count": 39,
     "metadata": {},
     "output_type": "execute_result"
    }
   ],
   "source": [
    "%%sql\n",
    "-- Step 1\n",
    "ALTER TABLE orders_facts \n",
    "ADD COLUMN deliver_key INTEGER,\n",
    "-- Step 2\n",
    "ADD CONSTRAINT fk_deliver_hour\n",
    "    FOREIGN KEY (deliver_key)\n",
    "    REFERENCES hour (key);"
   ]
  },
  {
   "cell_type": "code",
   "execution_count": 40,
   "metadata": {},
   "outputs": [
    {
     "name": "stdout",
     "output_type": "stream",
     "text": [
      " * postgresql://student@/final_project\n",
      "115034 rows affected.\n"
     ]
    },
    {
     "data": {
      "text/plain": [
       "[]"
      ]
     },
     "execution_count": 40,
     "metadata": {},
     "output_type": "execute_result"
    }
   ],
   "source": [
    "%%sql\n",
    "-- step 3\n",
    "UPDATE orders_facts\n",
    "SET deliver_key = hour.key\n",
    "FROM hour\n",
    "WHERE TO_CHAR(orders_facts.order_delivered_customer_date, 'YYYY-MM-DD HH24:00:00') = hour.hour;"
   ]
  },
  {
   "cell_type": "markdown",
   "metadata": {},
   "source": [
    "We can drop columns from orders_facts table"
   ]
  },
  {
   "cell_type": "code",
   "execution_count": 41,
   "metadata": {},
   "outputs": [
    {
     "name": "stdout",
     "output_type": "stream",
     "text": [
      " * postgresql://student@/final_project\n",
      "Done.\n"
     ]
    },
    {
     "data": {
      "text/plain": [
       "[]"
      ]
     },
     "execution_count": 41,
     "metadata": {},
     "output_type": "execute_result"
    }
   ],
   "source": [
    "%%sql\n",
    "ALTER TABLE orders_facts \n",
    "DROP COLUMN order_purchase_timestamp,\n",
    "DROP COLUMN order_delivered_customer_date,\n",
    "DROP COLUMN order_estimated_delivery_date,\n",
    "DROP COLUMN customer_unique_id,\n",
    "DROP COLUMN customer_zip_code_prefix,\n",
    "DROP COLUMN customer_city,\n",
    "DROP COLUMN customer_state,\n",
    "DROP COLUMN seller_id,\n",
    "DROP COLUMN seller_zip_code_prefix,\n",
    "DROP COLUMN seller_city,\n",
    "DROP COLUMN seller_state,\n",
    "DROP COLUMN product_id,\n",
    "DROP COLUMN freight_value,\n",
    "DROP COLUMN product_category_name;"
   ]
  },
  {
   "cell_type": "code",
   "execution_count": 42,
   "metadata": {},
   "outputs": [
    {
     "name": "stdout",
     "output_type": "stream",
     "text": [
      " * postgresql://student@/final_project\n",
      "10 rows affected.\n"
     ]
    },
    {
     "data": {
      "text/html": [
       "<table>\n",
       "    <tr>\n",
       "        <th>difference_delivered_purchase</th>\n",
       "        <th>difference_estimated_delivered</th>\n",
       "        <th>price</th>\n",
       "        <th>product_weight_g</th>\n",
       "        <th>product_lenght_cm</th>\n",
       "        <th>product_height_cm</th>\n",
       "        <th>product_width_cm</th>\n",
       "        <th>customer_key</th>\n",
       "        <th>product_key</th>\n",
       "        <th>seller_key</th>\n",
       "        <th>order_key</th>\n",
       "        <th>deliver_key</th>\n",
       "    </tr>\n",
       "    <tr>\n",
       "        <td>None</td>\n",
       "        <td>None</td>\n",
       "        <td>32.9</td>\n",
       "        <td>1800</td>\n",
       "        <td>32</td>\n",
       "        <td>6</td>\n",
       "        <td>28</td>\n",
       "        <td>68786</td>\n",
       "        <td>31248</td>\n",
       "        <td>247</td>\n",
       "        <td>1</td>\n",
       "        <td>None</td>\n",
       "    </tr>\n",
       "    <tr>\n",
       "        <td>None</td>\n",
       "        <td>None</td>\n",
       "        <td>39.99</td>\n",
       "        <td>1400</td>\n",
       "        <td>32</td>\n",
       "        <td>6</td>\n",
       "        <td>28</td>\n",
       "        <td>68786</td>\n",
       "        <td>24855</td>\n",
       "        <td>247</td>\n",
       "        <td>1</td>\n",
       "        <td>None</td>\n",
       "    </tr>\n",
       "    <tr>\n",
       "        <td>None</td>\n",
       "        <td>None</td>\n",
       "        <td>59.5</td>\n",
       "        <td>700</td>\n",
       "        <td>25</td>\n",
       "        <td>2</td>\n",
       "        <td>25</td>\n",
       "        <td>27114</td>\n",
       "        <td>31388</td>\n",
       "        <td>1999</td>\n",
       "        <td>2</td>\n",
       "        <td>None</td>\n",
       "    </tr>\n",
       "    <tr>\n",
       "        <td>None</td>\n",
       "        <td>None</td>\n",
       "        <td>100</td>\n",
       "        <td>500</td>\n",
       "        <td>18</td>\n",
       "        <td>18</td>\n",
       "        <td>18</td>\n",
       "        <td>5492</td>\n",
       "        <td>27139</td>\n",
       "        <td>446</td>\n",
       "        <td>3</td>\n",
       "        <td>None</td>\n",
       "    </tr>\n",
       "    <tr>\n",
       "        <td>None</td>\n",
       "        <td>None</td>\n",
       "        <td>164</td>\n",
       "        <td>900</td>\n",
       "        <td>28</td>\n",
       "        <td>18</td>\n",
       "        <td>14</td>\n",
       "        <td>16038</td>\n",
       "        <td>32143</td>\n",
       "        <td>1681</td>\n",
       "        <td>12</td>\n",
       "        <td>None</td>\n",
       "    </tr>\n",
       "    <tr>\n",
       "        <td>None</td>\n",
       "        <td>None</td>\n",
       "        <td>189.9</td>\n",
       "        <td>400</td>\n",
       "        <td>19</td>\n",
       "        <td>7</td>\n",
       "        <td>17</td>\n",
       "        <td>80715</td>\n",
       "        <td>27727</td>\n",
       "        <td>890</td>\n",
       "        <td>12</td>\n",
       "        <td>None</td>\n",
       "    </tr>\n",
       "    <tr>\n",
       "        <td>None</td>\n",
       "        <td>None</td>\n",
       "        <td>239.9</td>\n",
       "        <td>400</td>\n",
       "        <td>18</td>\n",
       "        <td>16</td>\n",
       "        <td>16</td>\n",
       "        <td>73027</td>\n",
       "        <td>23180</td>\n",
       "        <td>2203</td>\n",
       "        <td>13</td>\n",
       "        <td>None</td>\n",
       "    </tr>\n",
       "    <tr>\n",
       "        <td>None</td>\n",
       "        <td>None</td>\n",
       "        <td>22.37</td>\n",
       "        <td>900</td>\n",
       "        <td>16</td>\n",
       "        <td>34</td>\n",
       "        <td>34</td>\n",
       "        <td>17411</td>\n",
       "        <td>22225</td>\n",
       "        <td>288</td>\n",
       "        <td>14</td>\n",
       "        <td>None</td>\n",
       "    </tr>\n",
       "    <tr>\n",
       "        <td>None</td>\n",
       "        <td>None</td>\n",
       "        <td>599</td>\n",
       "        <td>20100</td>\n",
       "        <td>90</td>\n",
       "        <td>60</td>\n",
       "        <td>20</td>\n",
       "        <td>26169</td>\n",
       "        <td>7464</td>\n",
       "        <td>808</td>\n",
       "        <td>15</td>\n",
       "        <td>None</td>\n",
       "    </tr>\n",
       "    <tr>\n",
       "        <td>None</td>\n",
       "        <td>None</td>\n",
       "        <td>129.9</td>\n",
       "        <td>700</td>\n",
       "        <td>31</td>\n",
       "        <td>5</td>\n",
       "        <td>25</td>\n",
       "        <td>20610</td>\n",
       "        <td>2259</td>\n",
       "        <td>1170</td>\n",
       "        <td>19</td>\n",
       "        <td>None</td>\n",
       "    </tr>\n",
       "</table>"
      ],
      "text/plain": [
       "[(None, None, Decimal('32.9'), Decimal('1800'), Decimal('32'), Decimal('6'), Decimal('28'), 68786, 31248, 247, 1, None),\n",
       " (None, None, Decimal('39.99'), Decimal('1400'), Decimal('32'), Decimal('6'), Decimal('28'), 68786, 24855, 247, 1, None),\n",
       " (None, None, Decimal('59.5'), Decimal('700'), Decimal('25'), Decimal('2'), Decimal('25'), 27114, 31388, 1999, 2, None),\n",
       " (None, None, Decimal('100'), Decimal('500'), Decimal('18'), Decimal('18'), Decimal('18'), 5492, 27139, 446, 3, None),\n",
       " (None, None, Decimal('164'), Decimal('900'), Decimal('28'), Decimal('18'), Decimal('14'), 16038, 32143, 1681, 12, None),\n",
       " (None, None, Decimal('189.9'), Decimal('400'), Decimal('19'), Decimal('7'), Decimal('17'), 80715, 27727, 890, 12, None),\n",
       " (None, None, Decimal('239.9'), Decimal('400'), Decimal('18'), Decimal('16'), Decimal('16'), 73027, 23180, 2203, 13, None),\n",
       " (None, None, Decimal('22.37'), Decimal('900'), Decimal('16'), Decimal('34'), Decimal('34'), 17411, 22225, 288, 14, None),\n",
       " (None, None, Decimal('599'), Decimal('20100'), Decimal('90'), Decimal('60'), Decimal('20'), 26169, 7464, 808, 15, None),\n",
       " (None, None, Decimal('129.9'), Decimal('700'), Decimal('31'), Decimal('5'), Decimal('25'), 20610, 2259, 1170, 19, None)]"
      ]
     },
     "execution_count": 42,
     "metadata": {},
     "output_type": "execute_result"
    }
   ],
   "source": [
    "%%sql\n",
    "SELECT * FROM orders_facts\n",
    "LIMIT 10;"
   ]
  },
  {
   "cell_type": "markdown",
   "metadata": {},
   "source": [
    "Now we are ready to explore the data."
   ]
  },
  {
   "cell_type": "markdown",
   "metadata": {},
   "source": [
    "# Ask 3"
   ]
  },
  {
   "cell_type": "markdown",
   "metadata": {},
   "source": [
    "#### Business Question BQ1"
   ]
  },
  {
   "cell_type": "markdown",
   "metadata": {},
   "source": [
    "Find the number of orders by day of the week."
   ]
  },
  {
   "cell_type": "code",
   "execution_count": 42,
   "metadata": {},
   "outputs": [
    {
     "name": "stdout",
     "output_type": "stream",
     "text": [
      " * postgresql://student@/final_project\n",
      "7 rows affected.\n"
     ]
    },
    {
     "data": {
      "text/html": [
       "<table>\n",
       "    <tr>\n",
       "        <th>day_of_week</th>\n",
       "        <th>day_of_week_str</th>\n",
       "        <th>count</th>\n",
       "    </tr>\n",
       "    <tr>\n",
       "        <td>1</td>\n",
       "        <td>Sunday   </td>\n",
       "        <td>13936</td>\n",
       "    </tr>\n",
       "    <tr>\n",
       "        <td>2</td>\n",
       "        <td>Monday   </td>\n",
       "        <td>19130</td>\n",
       "    </tr>\n",
       "    <tr>\n",
       "        <td>3</td>\n",
       "        <td>Tuesday  </td>\n",
       "        <td>19077</td>\n",
       "    </tr>\n",
       "    <tr>\n",
       "        <td>4</td>\n",
       "        <td>Wednesday</td>\n",
       "        <td>18380</td>\n",
       "    </tr>\n",
       "    <tr>\n",
       "        <td>5</td>\n",
       "        <td>Thursday </td>\n",
       "        <td>17590</td>\n",
       "    </tr>\n",
       "    <tr>\n",
       "        <td>6</td>\n",
       "        <td>Friday   </td>\n",
       "        <td>16760</td>\n",
       "    </tr>\n",
       "    <tr>\n",
       "        <td>7</td>\n",
       "        <td>Saturday </td>\n",
       "        <td>12728</td>\n",
       "    </tr>\n",
       "</table>"
      ],
      "text/plain": [
       "[(1, 'Sunday   ', 13936),\n",
       " (2, 'Monday   ', 19130),\n",
       " (3, 'Tuesday  ', 19077),\n",
       " (4, 'Wednesday', 18380),\n",
       " (5, 'Thursday ', 17590),\n",
       " (6, 'Friday   ', 16760),\n",
       " (7, 'Saturday ', 12728)]"
      ]
     },
     "execution_count": 42,
     "metadata": {},
     "output_type": "execute_result"
    }
   ],
   "source": [
    "%%sql\n",
    "SELECT day_of_week, day_of_week_str, COUNT(*) count\n",
    "FROM orders_facts\n",
    "JOIN hour\n",
    "  ON orders_facts.order_key = hour.key\n",
    "GROUP BY day_of_week_str, day_of_week\n",
    "ORDER BY day_of_week;"
   ]
  },
  {
   "cell_type": "markdown",
   "metadata": {},
   "source": [
    "Interpretation: customers tend to place more orders on Monday and Tuesday. Therefore, sellers could invest more on Monday and Tuesday' marketing."
   ]
  },
  {
   "cell_type": "code",
   "execution_count": 43,
   "metadata": {},
   "outputs": [],
   "source": [
    "%matplotlib inline"
   ]
  },
  {
   "cell_type": "code",
   "execution_count": 44,
   "metadata": {},
   "outputs": [
    {
     "data": {
      "text/plain": [
       "<BarContainer object of 7 artists>"
      ]
     },
     "execution_count": 44,
     "metadata": {},
     "output_type": "execute_result"
    },
    {
     "data": {
      "image/png": "[encoded data removed]",
      "text/plain": [
       "<Figure size 432x288 with 1 Axes>"
      ]
     },
     "metadata": {
      "needs_background": "light"
     },
     "output_type": "display_data"
    }
   ],
   "source": [
    "_.bar()"
   ]
  },
  {
   "cell_type": "markdown",
   "metadata": {},
   "source": [
    "#### BQ2: \n",
    "Find the top 10 product categories based on average price"
   ]
  },
  {
   "cell_type": "code",
   "execution_count": 48,
   "metadata": {},
   "outputs": [
    {
     "name": "stdout",
     "output_type": "stream",
     "text": [
      " * postgresql://student@/final_project\n",
      "10 rows affected.\n"
     ]
    },
    {
     "data": {
      "text/html": [
       "<table>\n",
       "    <tr>\n",
       "        <th>average_price</th>\n",
       "        <th>product_category_name</th>\n",
       "    </tr>\n",
       "    <tr>\n",
       "        <td>1103.69</td>\n",
       "        <td>pcs</td>\n",
       "    </tr>\n",
       "    <tr>\n",
       "        <td>627.51</td>\n",
       "        <td>portateis_casa_forno_e_cafe</td>\n",
       "    </tr>\n",
       "    <tr>\n",
       "        <td>459.95</td>\n",
       "        <td>eletrodomesticos_2</td>\n",
       "    </tr>\n",
       "    <tr>\n",
       "        <td>332.71</td>\n",
       "        <td>agro_industria_e_comercio</td>\n",
       "    </tr>\n",
       "    <tr>\n",
       "        <td>293.77</td>\n",
       "        <td>instrumentos_musicais</td>\n",
       "    </tr>\n",
       "    <tr>\n",
       "        <td>286.61</td>\n",
       "        <td>eletroportateis</td>\n",
       "    </tr>\n",
       "    <tr>\n",
       "        <td>264.57</td>\n",
       "        <td>portateis_cozinha_e_preparadores_de_alimentos</td>\n",
       "    </tr>\n",
       "    <tr>\n",
       "        <td>227.68</td>\n",
       "        <td>telefonia_fixa</td>\n",
       "    </tr>\n",
       "    <tr>\n",
       "        <td>210.94</td>\n",
       "        <td>construcao_ferramentas_seguranca</td>\n",
       "    </tr>\n",
       "    <tr>\n",
       "        <td>202.09</td>\n",
       "        <td>relogios_presentes</td>\n",
       "    </tr>\n",
       "</table>"
      ],
      "text/plain": [
       "[(Decimal('1103.69'), 'pcs'),\n",
       " (Decimal('627.51'), 'portateis_casa_forno_e_cafe'),\n",
       " (Decimal('459.95'), 'eletrodomesticos_2'),\n",
       " (Decimal('332.71'), 'agro_industria_e_comercio'),\n",
       " (Decimal('293.77'), 'instrumentos_musicais'),\n",
       " (Decimal('286.61'), 'eletroportateis'),\n",
       " (Decimal('264.57'), 'portateis_cozinha_e_preparadores_de_alimentos'),\n",
       " (Decimal('227.68'), 'telefonia_fixa'),\n",
       " (Decimal('210.94'), 'construcao_ferramentas_seguranca'),\n",
       " (Decimal('202.09'), 'relogios_presentes')]"
      ]
     },
     "execution_count": 48,
     "metadata": {},
     "output_type": "execute_result"
    }
   ],
   "source": [
    "%%sql\n",
    "SELECT round(AVG(price),2) as average_price, p.product_category_name\n",
    "FROM orders_facts\n",
    "JOIN product AS p\n",
    "  ON orders_facts.product_key = p.key\n",
    "GROUP BY p.product_category_name\n",
    "ORDER BY average_price DESC \n",
    "LIMIT 10;"
   ]
  },
  {
   "cell_type": "markdown",
   "metadata": {},
   "source": [
    "Interpretation: Olist and sellers could generate more revenue by increasing sales in computers, small appliances, home appliances, and musical instruments."
   ]
  },
  {
   "cell_type": "markdown",
   "metadata": {},
   "source": [
    "#### BQ3:  \n",
    "Find the average days of product delays of each state based on the difference between estimatated delivery days and actural delivery days. "
   ]
  },
  {
   "cell_type": "code",
   "execution_count": 6,
   "metadata": {},
   "outputs": [
    {
     "name": "stdout",
     "output_type": "stream",
     "text": [
      " * postgresql://student@/final_project\n",
      "27 rows affected.\n"
     ]
    },
    {
     "data": {
      "text/html": [
       "<table>\n",
       "    <tr>\n",
       "        <th>average_delay</th>\n",
       "        <th>customer_state</th>\n",
       "    </tr>\n",
       "    <tr>\n",
       "        <td>20.54</td>\n",
       "        <td>AC</td>\n",
       "    </tr>\n",
       "    <tr>\n",
       "        <td>19.26</td>\n",
       "        <td>RO</td>\n",
       "    </tr>\n",
       "    <tr>\n",
       "        <td>19.15</td>\n",
       "        <td>AM</td>\n",
       "    </tr>\n",
       "    <tr>\n",
       "        <td>18.03</td>\n",
       "        <td>AP</td>\n",
       "    </tr>\n",
       "    <tr>\n",
       "        <td>17.62</td>\n",
       "        <td>RR</td>\n",
       "    </tr>\n",
       "    <tr>\n",
       "        <td>13.69</td>\n",
       "        <td>MT</td>\n",
       "    </tr>\n",
       "    <tr>\n",
       "        <td>13.60</td>\n",
       "        <td>PA</td>\n",
       "    </tr>\n",
       "    <tr>\n",
       "        <td>13.49</td>\n",
       "        <td>RS</td>\n",
       "    </tr>\n",
       "    <tr>\n",
       "        <td>13.00</td>\n",
       "        <td>RN</td>\n",
       "    </tr>\n",
       "    <tr>\n",
       "        <td>12.82</td>\n",
       "        <td>PE</td>\n",
       "    </tr>\n",
       "    <tr>\n",
       "        <td>12.78</td>\n",
       "        <td>PR</td>\n",
       "    </tr>\n",
       "    <tr>\n",
       "        <td>12.65</td>\n",
       "        <td>MG</td>\n",
       "    </tr>\n",
       "    <tr>\n",
       "        <td>12.34</td>\n",
       "        <td>PB</td>\n",
       "    </tr>\n",
       "    <tr>\n",
       "        <td>11.86</td>\n",
       "        <td>TO</td>\n",
       "    </tr>\n",
       "    <tr>\n",
       "        <td>11.59</td>\n",
       "        <td>GO</td>\n",
       "    </tr>\n",
       "    <tr>\n",
       "        <td>11.50</td>\n",
       "        <td>DF</td>\n",
       "    </tr>\n",
       "    <tr>\n",
       "        <td>11.33</td>\n",
       "        <td>RJ</td>\n",
       "    </tr>\n",
       "    <tr>\n",
       "        <td>10.91</td>\n",
       "        <td>SC</td>\n",
       "    </tr>\n",
       "    <tr>\n",
       "        <td>10.80</td>\n",
       "        <td>PI</td>\n",
       "    </tr>\n",
       "    <tr>\n",
       "        <td>10.59</td>\n",
       "        <td>CE</td>\n",
       "    </tr>\n",
       "    <tr>\n",
       "        <td>10.56</td>\n",
       "        <td>MS</td>\n",
       "    </tr>\n",
       "    <tr>\n",
       "        <td>10.54</td>\n",
       "        <td>SP</td>\n",
       "    </tr>\n",
       "    <tr>\n",
       "        <td>10.29</td>\n",
       "        <td>BA</td>\n",
       "    </tr>\n",
       "    <tr>\n",
       "        <td>9.89</td>\n",
       "        <td>ES</td>\n",
       "    </tr>\n",
       "    <tr>\n",
       "        <td>9.38</td>\n",
       "        <td>SE</td>\n",
       "    </tr>\n",
       "    <tr>\n",
       "        <td>9.19</td>\n",
       "        <td>MA</td>\n",
       "    </tr>\n",
       "    <tr>\n",
       "        <td>7.86</td>\n",
       "        <td>AL</td>\n",
       "    </tr>\n",
       "</table>"
      ],
      "text/plain": [
       "[(Decimal('20.54'), 'AC'),\n",
       " (Decimal('19.26'), 'RO'),\n",
       " (Decimal('19.15'), 'AM'),\n",
       " (Decimal('18.03'), 'AP'),\n",
       " (Decimal('17.62'), 'RR'),\n",
       " (Decimal('13.69'), 'MT'),\n",
       " (Decimal('13.60'), 'PA'),\n",
       " (Decimal('13.49'), 'RS'),\n",
       " (Decimal('13.00'), 'RN'),\n",
       " (Decimal('12.82'), 'PE'),\n",
       " (Decimal('12.78'), 'PR'),\n",
       " (Decimal('12.65'), 'MG'),\n",
       " (Decimal('12.34'), 'PB'),\n",
       " (Decimal('11.86'), 'TO'),\n",
       " (Decimal('11.59'), 'GO'),\n",
       " (Decimal('11.50'), 'DF'),\n",
       " (Decimal('11.33'), 'RJ'),\n",
       " (Decimal('10.91'), 'SC'),\n",
       " (Decimal('10.80'), 'PI'),\n",
       " (Decimal('10.59'), 'CE'),\n",
       " (Decimal('10.56'), 'MS'),\n",
       " (Decimal('10.54'), 'SP'),\n",
       " (Decimal('10.29'), 'BA'),\n",
       " (Decimal('9.89'), 'ES'),\n",
       " (Decimal('9.38'), 'SE'),\n",
       " (Decimal('9.19'), 'MA'),\n",
       " (Decimal('7.86'), 'AL')]"
      ]
     },
     "execution_count": 6,
     "metadata": {},
     "output_type": "execute_result"
    }
   ],
   "source": [
    "%%sql\n",
    "SELECT round(AVG(f.difference_estimated_delivered),2) as average_delay, c.customer_state\n",
    "FROM orders_facts AS f\n",
    "JOIN customer AS c\n",
    "  ON f.customer_key = c.key\n",
    "GROUP BY c.customer_state\n",
    "HAVING round(AVG(f.difference_estimated_delivered),2) IS NOT NULL\n",
    "ORDER BY average_delay DESC;"
   ]
  },
  {
   "cell_type": "markdown",
   "metadata": {},
   "source": [
    "Interpretation: Customers in AC, RO, and AM have the worst delivery experience. Olist and sellers should come up with better delivery solutions to increase customer experience."
   ]
  }
 ],
 "metadata": {
  "kernelspec": {
   "display_name": "Python 3",
   "language": "python",
   "name": "python3"
  },
  "language_info": {
   "codemirror_mode": {
    "name": "ipython",
    "version": 3
   },
   "file_extension": ".py",
   "mimetype": "text/x-python",
   "name": "python",
   "nbconvert_exporter": "python",
   "pygments_lexer": "ipython3",
   "version": "3.7.4"
  }
 },
 "nbformat": 4,
 "nbformat_minor": 2
}
